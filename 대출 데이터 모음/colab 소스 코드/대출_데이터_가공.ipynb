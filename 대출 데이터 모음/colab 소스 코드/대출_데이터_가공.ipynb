{
  "nbformat": 4,
  "nbformat_minor": 0,
  "metadata": {
    "colab": {
      "provenance": []
    },
    "kernelspec": {
      "name": "python3",
      "display_name": "Python 3"
    },
    "language_info": {
      "name": "python"
    }
  },
  "cells": [
    {
      "cell_type": "code",
      "execution_count": null,
      "metadata": {
        "colab": {
          "base_uri": "https://localhost:8080/"
        },
        "id": "zVaUf-87HGE3",
        "outputId": "c44159a9-d980-431c-b3c5-beac2354bcec"
      },
      "outputs": [
        {
          "output_type": "stream",
          "name": "stdout",
          "text": [
            "4        004.0\n",
            "14     005.133\n",
            "15     005.567\n",
            "16      005.53\n",
            "17     005.567\n",
            "        ...   \n",
            "995     005.58\n",
            "996      005.1\n",
            "997      005.1\n",
            "998     005.55\n",
            "999      005.1\n",
            "Name: KDC, Length: 772, dtype: object\n"
          ]
        },
        {
          "output_type": "stream",
          "name": "stderr",
          "text": [
            "<ipython-input-30-06c4164eed9a>:12: SettingWithCopyWarning: \n",
            "A value is trying to be set on a copy of a slice from a DataFrame.\n",
            "Try using .loc[row_indexer,col_indexer] = value instead\n",
            "\n",
            "See the caveats in the documentation: https://pandas.pydata.org/pandas-docs/stable/user_guide/indexing.html#returning-a-view-versus-a-copy\n",
            "  df1['KDC'] = '00' + df1['KDC'].astype(str)\n"
          ]
        }
      ],
      "source": [
        "import pandas as pd\n",
        "\n",
        "df = pd.read_excel('2021_2월.xlsx')\n",
        "\n",
        "columns_to_drop = ['순위', '저자', '출판사', '권', 'ISBN', 'ISBN부가기호']\n",
        "df.drop(columns=columns_to_drop, axis=1, inplace=True)\n",
        "\n",
        "mask = (df['KDC'] >= 3) & (df['KDC'] < 6) & (df['KDC'] != 5.3) & ~df['KDC'].isna()\n",
        "\n",
        "df1 = df[mask]\n",
        "\n",
        "df1['KDC'] = '00' + df1['KDC'].astype(str)\n",
        "\n",
        "print(df1['KDC'])\n",
        "\n",
        "df1.reset_index(drop=True, inplace=True)\n",
        "df1.to_excel('2021-02.xlsx', index=False)\n"
      ]
    },
    {
      "cell_type": "code",
      "source": [
        "from google.colab import drive\n",
        "drive.mount(\"/content/drive\")"
      ],
      "metadata": {
        "colab": {
          "base_uri": "https://localhost:8080/",
          "height": 355
        },
        "id": "CBIgQq9CAZ63",
        "outputId": "6abb1266-6cb5-45bc-901e-4868150f3601"
      },
      "execution_count": null,
      "outputs": [
        {
          "output_type": "error",
          "ename": "MessageError",
          "evalue": "ignored",
          "traceback": [
            "\u001b[0;31m---------------------------------------------------------------------------\u001b[0m",
            "\u001b[0;31mMessageError\u001b[0m                              Traceback (most recent call last)",
            "\u001b[0;32m<ipython-input-1-bf1647b42bbd>\u001b[0m in \u001b[0;36m<cell line: 2>\u001b[0;34m()\u001b[0m\n\u001b[1;32m      1\u001b[0m \u001b[0;32mfrom\u001b[0m \u001b[0mgoogle\u001b[0m\u001b[0;34m.\u001b[0m\u001b[0mcolab\u001b[0m \u001b[0;32mimport\u001b[0m \u001b[0mdrive\u001b[0m\u001b[0;34m\u001b[0m\u001b[0;34m\u001b[0m\u001b[0m\n\u001b[0;32m----> 2\u001b[0;31m \u001b[0mdrive\u001b[0m\u001b[0;34m.\u001b[0m\u001b[0mmount\u001b[0m\u001b[0;34m(\u001b[0m\u001b[0;34m\"/content/drive\"\u001b[0m\u001b[0;34m)\u001b[0m\u001b[0;34m\u001b[0m\u001b[0;34m\u001b[0m\u001b[0m\n\u001b[0m",
            "\u001b[0;32m/usr/local/lib/python3.10/dist-packages/google/colab/drive.py\u001b[0m in \u001b[0;36mmount\u001b[0;34m(mountpoint, force_remount, timeout_ms, readonly)\u001b[0m\n\u001b[1;32m    101\u001b[0m \u001b[0;32mdef\u001b[0m \u001b[0mmount\u001b[0m\u001b[0;34m(\u001b[0m\u001b[0mmountpoint\u001b[0m\u001b[0;34m,\u001b[0m \u001b[0mforce_remount\u001b[0m\u001b[0;34m=\u001b[0m\u001b[0;32mFalse\u001b[0m\u001b[0;34m,\u001b[0m \u001b[0mtimeout_ms\u001b[0m\u001b[0;34m=\u001b[0m\u001b[0;36m120000\u001b[0m\u001b[0;34m,\u001b[0m \u001b[0mreadonly\u001b[0m\u001b[0;34m=\u001b[0m\u001b[0;32mFalse\u001b[0m\u001b[0;34m)\u001b[0m\u001b[0;34m:\u001b[0m\u001b[0;34m\u001b[0m\u001b[0;34m\u001b[0m\u001b[0m\n\u001b[1;32m    102\u001b[0m   \u001b[0;34m\"\"\"Mount your Google Drive at the specified mountpoint path.\"\"\"\u001b[0m\u001b[0;34m\u001b[0m\u001b[0;34m\u001b[0m\u001b[0m\n\u001b[0;32m--> 103\u001b[0;31m   return _mount(\n\u001b[0m\u001b[1;32m    104\u001b[0m       \u001b[0mmountpoint\u001b[0m\u001b[0;34m,\u001b[0m\u001b[0;34m\u001b[0m\u001b[0;34m\u001b[0m\u001b[0m\n\u001b[1;32m    105\u001b[0m       \u001b[0mforce_remount\u001b[0m\u001b[0;34m=\u001b[0m\u001b[0mforce_remount\u001b[0m\u001b[0;34m,\u001b[0m\u001b[0;34m\u001b[0m\u001b[0;34m\u001b[0m\u001b[0m\n",
            "\u001b[0;32m/usr/local/lib/python3.10/dist-packages/google/colab/drive.py\u001b[0m in \u001b[0;36m_mount\u001b[0;34m(mountpoint, force_remount, timeout_ms, ephemeral, readonly)\u001b[0m\n\u001b[1;32m    130\u001b[0m   )\n\u001b[1;32m    131\u001b[0m   \u001b[0;32mif\u001b[0m \u001b[0mephemeral\u001b[0m\u001b[0;34m:\u001b[0m\u001b[0;34m\u001b[0m\u001b[0;34m\u001b[0m\u001b[0m\n\u001b[0;32m--> 132\u001b[0;31m     _message.blocking_request(\n\u001b[0m\u001b[1;32m    133\u001b[0m         \u001b[0;34m'request_auth'\u001b[0m\u001b[0;34m,\u001b[0m \u001b[0mrequest\u001b[0m\u001b[0;34m=\u001b[0m\u001b[0;34m{\u001b[0m\u001b[0;34m'authType'\u001b[0m\u001b[0;34m:\u001b[0m \u001b[0;34m'dfs_ephemeral'\u001b[0m\u001b[0;34m}\u001b[0m\u001b[0;34m,\u001b[0m \u001b[0mtimeout_sec\u001b[0m\u001b[0;34m=\u001b[0m\u001b[0;32mNone\u001b[0m\u001b[0;34m\u001b[0m\u001b[0;34m\u001b[0m\u001b[0m\n\u001b[1;32m    134\u001b[0m     )\n",
            "\u001b[0;32m/usr/local/lib/python3.10/dist-packages/google/colab/_message.py\u001b[0m in \u001b[0;36mblocking_request\u001b[0;34m(request_type, request, timeout_sec, parent)\u001b[0m\n\u001b[1;32m    174\u001b[0m       \u001b[0mrequest_type\u001b[0m\u001b[0;34m,\u001b[0m \u001b[0mrequest\u001b[0m\u001b[0;34m,\u001b[0m \u001b[0mparent\u001b[0m\u001b[0;34m=\u001b[0m\u001b[0mparent\u001b[0m\u001b[0;34m,\u001b[0m \u001b[0mexpect_reply\u001b[0m\u001b[0;34m=\u001b[0m\u001b[0;32mTrue\u001b[0m\u001b[0;34m\u001b[0m\u001b[0;34m\u001b[0m\u001b[0m\n\u001b[1;32m    175\u001b[0m   )\n\u001b[0;32m--> 176\u001b[0;31m   \u001b[0;32mreturn\u001b[0m \u001b[0mread_reply_from_input\u001b[0m\u001b[0;34m(\u001b[0m\u001b[0mrequest_id\u001b[0m\u001b[0;34m,\u001b[0m \u001b[0mtimeout_sec\u001b[0m\u001b[0;34m)\u001b[0m\u001b[0;34m\u001b[0m\u001b[0;34m\u001b[0m\u001b[0m\n\u001b[0m",
            "\u001b[0;32m/usr/local/lib/python3.10/dist-packages/google/colab/_message.py\u001b[0m in \u001b[0;36mread_reply_from_input\u001b[0;34m(message_id, timeout_sec)\u001b[0m\n\u001b[1;32m    101\u001b[0m     ):\n\u001b[1;32m    102\u001b[0m       \u001b[0;32mif\u001b[0m \u001b[0;34m'error'\u001b[0m \u001b[0;32min\u001b[0m \u001b[0mreply\u001b[0m\u001b[0;34m:\u001b[0m\u001b[0;34m\u001b[0m\u001b[0;34m\u001b[0m\u001b[0m\n\u001b[0;32m--> 103\u001b[0;31m         \u001b[0;32mraise\u001b[0m \u001b[0mMessageError\u001b[0m\u001b[0;34m(\u001b[0m\u001b[0mreply\u001b[0m\u001b[0;34m[\u001b[0m\u001b[0;34m'error'\u001b[0m\u001b[0;34m]\u001b[0m\u001b[0;34m)\u001b[0m\u001b[0;34m\u001b[0m\u001b[0;34m\u001b[0m\u001b[0m\n\u001b[0m\u001b[1;32m    104\u001b[0m       \u001b[0;32mreturn\u001b[0m \u001b[0mreply\u001b[0m\u001b[0;34m.\u001b[0m\u001b[0mget\u001b[0m\u001b[0;34m(\u001b[0m\u001b[0;34m'data'\u001b[0m\u001b[0;34m,\u001b[0m \u001b[0;32mNone\u001b[0m\u001b[0;34m)\u001b[0m\u001b[0;34m\u001b[0m\u001b[0;34m\u001b[0m\u001b[0m\n\u001b[1;32m    105\u001b[0m \u001b[0;34m\u001b[0m\u001b[0m\n",
            "\u001b[0;31mMessageError\u001b[0m: Error: credential propagation was unsuccessful"
          ]
        }
      ]
    },
    {
      "cell_type": "code",
      "source": [
        "import pandas as pd\n",
        "\n",
        "df = pd.read_excel('2021_3월.xlsx')\n",
        "\n",
        "columns_to_drop = ['순위', '저자', '출판사', '권', 'ISBN', 'ISBN부가기호']\n",
        "df.drop(columns=columns_to_drop, axis=1, inplace=True)\n",
        "\n",
        "mask = (df['KDC'] >= 3) & (df['KDC'] < 6) & (df['KDC'] != 5.3) & ~df['KDC'].isna()\n",
        "\n",
        "df1 = df[mask]\n",
        "\n",
        "df1['KDC'] = '00' + df1['KDC'].astype(str)\n",
        "\n",
        "df1.reset_index(drop=True, inplace=True)\n",
        "df1.to_excel('2021-03.xlsx', index=False)\n"
      ],
      "metadata": {
        "colab": {
          "base_uri": "https://localhost:8080/"
        },
        "id": "7WgWdt6hcdRf",
        "outputId": "b260ac87-2307-4ddd-efac-71e0f72675f3"
      },
      "execution_count": null,
      "outputs": [
        {
          "output_type": "stream",
          "name": "stdout",
          "text": [
            "1        004.0\n",
            "6        004.0\n",
            "9      005.133\n",
            "11     005.133\n",
            "14     005.133\n",
            "        ...   \n",
            "995     004.78\n",
            "996    005.118\n",
            "997      005.1\n",
            "998     005.11\n",
            "999    005.138\n",
            "Name: KDC, Length: 796, dtype: object\n"
          ]
        },
        {
          "output_type": "stream",
          "name": "stderr",
          "text": [
            "<ipython-input-32-4576a46df8bf>:12: SettingWithCopyWarning: \n",
            "A value is trying to be set on a copy of a slice from a DataFrame.\n",
            "Try using .loc[row_indexer,col_indexer] = value instead\n",
            "\n",
            "See the caveats in the documentation: https://pandas.pydata.org/pandas-docs/stable/user_guide/indexing.html#returning-a-view-versus-a-copy\n",
            "  df1['KDC'] = '00' + df1['KDC'].astype(str)\n"
          ]
        }
      ]
    },
    {
      "cell_type": "code",
      "source": [
        "import pandas as pd\n",
        "\n",
        "df = pd.read_excel('2021_4월.xlsx')\n",
        "\n",
        "columns_to_drop = ['순위', '저자', '출판사', '권', 'ISBN', 'ISBN부가기호']\n",
        "df.drop(columns=columns_to_drop, axis=1, inplace=True)\n",
        "\n",
        "mask = (df['KDC'] >= 3) & (df['KDC'] < 6) & (df['KDC'] != 5.3) & ~df['KDC'].isna()\n",
        "\n",
        "df1 = df[mask]\n",
        "\n",
        "df1['KDC'] = '00' + df1['KDC'].astype(str)\n",
        "\n",
        "df1.reset_index(drop=True, inplace=True)\n",
        "df1.to_excel('2021-04.xlsx', index=False)\n"
      ],
      "metadata": {
        "colab": {
          "base_uri": "https://localhost:8080/"
        },
        "id": "9R-hKaBOdTpu",
        "outputId": "7a8c99d2-8212-490e-938b-61013c5aeea8"
      },
      "execution_count": null,
      "outputs": [
        {
          "output_type": "stream",
          "name": "stderr",
          "text": [
            "<ipython-input-33-4b5a70ad4017>:12: SettingWithCopyWarning: \n",
            "A value is trying to be set on a copy of a slice from a DataFrame.\n",
            "Try using .loc[row_indexer,col_indexer] = value instead\n",
            "\n",
            "See the caveats in the documentation: https://pandas.pydata.org/pandas-docs/stable/user_guide/indexing.html#returning-a-view-versus-a-copy\n",
            "  df1['KDC'] = '00' + df1['KDC'].astype(str)\n"
          ]
        }
      ]
    },
    {
      "cell_type": "code",
      "source": [
        "import pandas as pd\n",
        "\n",
        "df = pd.read_excel('2021_5월.xlsx')\n",
        "\n",
        "columns_to_drop = ['순위', '저자', '출판사', '권', 'ISBN', 'ISBN부가기호']\n",
        "df.drop(columns=columns_to_drop, axis=1, inplace=True)\n",
        "\n",
        "mask = (df['KDC'] >= 3) & (df['KDC'] < 6) & (df['KDC'] != 5.3) & ~df['KDC'].isna()\n",
        "\n",
        "df1 = df[mask]\n",
        "\n",
        "df1['KDC'] = '00' + df1['KDC'].astype(str)\n",
        "\n",
        "df1.reset_index(drop=True, inplace=True)\n",
        "df1.to_excel('2021-05.xlsx', index=False)\n"
      ],
      "metadata": {
        "colab": {
          "base_uri": "https://localhost:8080/"
        },
        "id": "RpYfeSdBdWS3",
        "outputId": "07b72de9-0694-4faf-bfd0-6451b8e82e19"
      },
      "execution_count": null,
      "outputs": [
        {
          "output_type": "stream",
          "name": "stderr",
          "text": [
            "<ipython-input-34-43749e80dbd7>:12: SettingWithCopyWarning: \n",
            "A value is trying to be set on a copy of a slice from a DataFrame.\n",
            "Try using .loc[row_indexer,col_indexer] = value instead\n",
            "\n",
            "See the caveats in the documentation: https://pandas.pydata.org/pandas-docs/stable/user_guide/indexing.html#returning-a-view-versus-a-copy\n",
            "  df1['KDC'] = '00' + df1['KDC'].astype(str)\n"
          ]
        }
      ]
    },
    {
      "cell_type": "code",
      "source": [
        "import pandas as pd\n",
        "\n",
        "df = pd.read_excel('2021_6월.xlsx')\n",
        "\n",
        "columns_to_drop = ['순위', '저자', '출판사', '권', 'ISBN', 'ISBN부가기호']\n",
        "df.drop(columns=columns_to_drop, axis=1, inplace=True)\n",
        "\n",
        "mask = (df['KDC'] >= 3) & (df['KDC'] < 6) & (df['KDC'] != 5.3) & ~df['KDC'].isna()\n",
        "\n",
        "df1 = df[mask]\n",
        "\n",
        "df1['KDC'] = '00' + df1['KDC'].astype(str)\n",
        "\n",
        "df1.reset_index(drop=True, inplace=True)\n",
        "df1.to_excel('2021-06.xlsx', index=False)\n"
      ],
      "metadata": {
        "colab": {
          "base_uri": "https://localhost:8080/"
        },
        "id": "uHouvayAdZbb",
        "outputId": "0ca69401-2336-4afd-f12a-73512aff9644"
      },
      "execution_count": null,
      "outputs": [
        {
          "output_type": "stream",
          "name": "stderr",
          "text": [
            "<ipython-input-35-09e9af867ad9>:12: SettingWithCopyWarning: \n",
            "A value is trying to be set on a copy of a slice from a DataFrame.\n",
            "Try using .loc[row_indexer,col_indexer] = value instead\n",
            "\n",
            "See the caveats in the documentation: https://pandas.pydata.org/pandas-docs/stable/user_guide/indexing.html#returning-a-view-versus-a-copy\n",
            "  df1['KDC'] = '00' + df1['KDC'].astype(str)\n"
          ]
        }
      ]
    },
    {
      "cell_type": "code",
      "source": [
        "import pandas as pd\n",
        "\n",
        "df = pd.read_excel('2021_7월.xlsx')\n",
        "\n",
        "columns_to_drop = ['순위', '저자', '출판사', '권', 'ISBN', 'ISBN부가기호']\n",
        "df.drop(columns=columns_to_drop, axis=1, inplace=True)\n",
        "\n",
        "mask = (df['KDC'] >= 3) & (df['KDC'] < 6) & (df['KDC'] != 5.3) & ~df['KDC'].isna()\n",
        "\n",
        "df1 = df[mask]\n",
        "\n",
        "df1['KDC'] = '00' + df1['KDC'].astype(str)\n",
        "\n",
        "df1.reset_index(drop=True, inplace=True)\n",
        "df1.to_excel('2021-07.xlsx', index=False)\n"
      ],
      "metadata": {
        "colab": {
          "base_uri": "https://localhost:8080/"
        },
        "id": "2WVUT-5udzSc",
        "outputId": "c9becb7d-7f3e-46f7-a32f-86ab59345d3e"
      },
      "execution_count": null,
      "outputs": [
        {
          "output_type": "stream",
          "name": "stderr",
          "text": [
            "<ipython-input-36-8662bf46a321>:12: SettingWithCopyWarning: \n",
            "A value is trying to be set on a copy of a slice from a DataFrame.\n",
            "Try using .loc[row_indexer,col_indexer] = value instead\n",
            "\n",
            "See the caveats in the documentation: https://pandas.pydata.org/pandas-docs/stable/user_guide/indexing.html#returning-a-view-versus-a-copy\n",
            "  df1['KDC'] = '00' + df1['KDC'].astype(str)\n"
          ]
        }
      ]
    },
    {
      "cell_type": "code",
      "source": [
        "import pandas as pd\n",
        "\n",
        "df = pd.read_excel('2021_8월.xlsx')\n",
        "\n",
        "columns_to_drop = ['순위', '저자', '출판사', '권', 'ISBN', 'ISBN부가기호']\n",
        "df.drop(columns=columns_to_drop, axis=1, inplace=True)\n",
        "\n",
        "mask = (df['KDC'] >= 3) & (df['KDC'] < 6) & (df['KDC'] != 5.3) & ~df['KDC'].isna()\n",
        "\n",
        "df1 = df[mask]\n",
        "\n",
        "df1['KDC'] = '00' + df1['KDC'].astype(str)\n",
        "\n",
        "df1.reset_index(drop=True, inplace=True)\n",
        "df1.to_excel('2021-08.xlsx', index=False)\n"
      ],
      "metadata": {
        "colab": {
          "base_uri": "https://localhost:8080/"
        },
        "id": "8hTeOsnhd1gt",
        "outputId": "f7bc323f-56b9-4bc1-d793-05474f522884"
      },
      "execution_count": null,
      "outputs": [
        {
          "output_type": "stream",
          "name": "stderr",
          "text": [
            "<ipython-input-37-3a06513e2576>:12: SettingWithCopyWarning: \n",
            "A value is trying to be set on a copy of a slice from a DataFrame.\n",
            "Try using .loc[row_indexer,col_indexer] = value instead\n",
            "\n",
            "See the caveats in the documentation: https://pandas.pydata.org/pandas-docs/stable/user_guide/indexing.html#returning-a-view-versus-a-copy\n",
            "  df1['KDC'] = '00' + df1['KDC'].astype(str)\n"
          ]
        }
      ]
    },
    {
      "cell_type": "code",
      "source": [
        "import pandas as pd\n",
        "\n",
        "df = pd.read_excel('2021_9월.xlsx')\n",
        "\n",
        "columns_to_drop = ['순위', '저자', '출판사', '권', 'ISBN', 'ISBN부가기호']\n",
        "df.drop(columns=columns_to_drop, axis=1, inplace=True)\n",
        "\n",
        "mask = (df['KDC'] >= 3) & (df['KDC'] < 6) & (df['KDC'] != 5.3) & ~df['KDC'].isna()\n",
        "\n",
        "df1 = df[mask]\n",
        "\n",
        "df1['KDC'] = '00' + df1['KDC'].astype(str)\n",
        "\n",
        "df1.reset_index(drop=True, inplace=True)\n",
        "df1.to_excel('2021-09.xlsx', index=False)\n"
      ],
      "metadata": {
        "colab": {
          "base_uri": "https://localhost:8080/"
        },
        "id": "MKemKnsid3rL",
        "outputId": "a58bde88-4e63-43bb-c5e2-ee3cb85dbbe5"
      },
      "execution_count": null,
      "outputs": [
        {
          "output_type": "stream",
          "name": "stderr",
          "text": [
            "<ipython-input-38-4e0dabe7f461>:12: SettingWithCopyWarning: \n",
            "A value is trying to be set on a copy of a slice from a DataFrame.\n",
            "Try using .loc[row_indexer,col_indexer] = value instead\n",
            "\n",
            "See the caveats in the documentation: https://pandas.pydata.org/pandas-docs/stable/user_guide/indexing.html#returning-a-view-versus-a-copy\n",
            "  df1['KDC'] = '00' + df1['KDC'].astype(str)\n"
          ]
        }
      ]
    },
    {
      "cell_type": "code",
      "source": [
        "import pandas as pd\n",
        "\n",
        "df = pd.read_excel('2021_10월.xlsx')\n",
        "\n",
        "columns_to_drop = ['순위', '저자', '출판사', '권', 'ISBN', 'ISBN부가기호']\n",
        "df.drop(columns=columns_to_drop, axis=1, inplace=True)\n",
        "\n",
        "mask = (df['KDC'] >= 3) & (df['KDC'] < 6) & (df['KDC'] != 5.3) & ~df['KDC'].isna()\n",
        "\n",
        "df1 = df[mask]\n",
        "\n",
        "df1['KDC'] = '00' + df1['KDC'].astype(str)\n",
        "\n",
        "df1.reset_index(drop=True, inplace=True)\n",
        "df1.to_excel('2021-10.xlsx', index=False)\n"
      ],
      "metadata": {
        "colab": {
          "base_uri": "https://localhost:8080/"
        },
        "id": "3XK-6aC9d6St",
        "outputId": "444d65d6-a12c-449c-b798-837b090ad802"
      },
      "execution_count": null,
      "outputs": [
        {
          "output_type": "stream",
          "name": "stderr",
          "text": [
            "<ipython-input-39-f1bfb04f8068>:12: SettingWithCopyWarning: \n",
            "A value is trying to be set on a copy of a slice from a DataFrame.\n",
            "Try using .loc[row_indexer,col_indexer] = value instead\n",
            "\n",
            "See the caveats in the documentation: https://pandas.pydata.org/pandas-docs/stable/user_guide/indexing.html#returning-a-view-versus-a-copy\n",
            "  df1['KDC'] = '00' + df1['KDC'].astype(str)\n"
          ]
        }
      ]
    },
    {
      "cell_type": "code",
      "source": [
        "import pandas as pd\n",
        "\n",
        "df = pd.read_excel('2021_11월.xlsx')\n",
        "\n",
        "columns_to_drop = ['순위', '저자', '출판사', '권', 'ISBN', 'ISBN부가기호']\n",
        "df.drop(columns=columns_to_drop, axis=1, inplace=True)\n",
        "\n",
        "mask = (df['KDC'] >= 3) & (df['KDC'] < 6) & (df['KDC'] != 5.3) & ~df['KDC'].isna()\n",
        "\n",
        "df1 = df[mask]\n",
        "\n",
        "df1['KDC'] = '00' + df1['KDC'].astype(str)\n",
        "\n",
        "df1.reset_index(drop=True, inplace=True)\n",
        "df1.to_excel('2021-11.xlsx', index=False)\n"
      ],
      "metadata": {
        "colab": {
          "base_uri": "https://localhost:8080/"
        },
        "id": "NY_kWNmxd8y7",
        "outputId": "30553e93-f0f8-4e09-9ecf-399d2f3a7730"
      },
      "execution_count": null,
      "outputs": [
        {
          "output_type": "stream",
          "name": "stderr",
          "text": [
            "<ipython-input-40-714539650d3f>:12: SettingWithCopyWarning: \n",
            "A value is trying to be set on a copy of a slice from a DataFrame.\n",
            "Try using .loc[row_indexer,col_indexer] = value instead\n",
            "\n",
            "See the caveats in the documentation: https://pandas.pydata.org/pandas-docs/stable/user_guide/indexing.html#returning-a-view-versus-a-copy\n",
            "  df1['KDC'] = '00' + df1['KDC'].astype(str)\n"
          ]
        }
      ]
    },
    {
      "cell_type": "code",
      "source": [
        "import pandas as pd\n",
        "\n",
        "df = pd.read_excel('2021_12월.xlsx')\n",
        "\n",
        "columns_to_drop = ['순위', '저자', '출판사', '권', 'ISBN', 'ISBN부가기호']\n",
        "df.drop(columns=columns_to_drop, axis=1, inplace=True)\n",
        "\n",
        "mask = (df['KDC'] >= 3) & (df['KDC'] < 6) & (df['KDC'] != 5.3) & ~df['KDC'].isna()\n",
        "\n",
        "df1 = df[mask]\n",
        "\n",
        "df1['KDC'] = '00' + df1['KDC'].astype(str)\n",
        "\n",
        "df1.reset_index(drop=True, inplace=True)\n",
        "df1.to_excel('2021-12.xlsx', index=False)\n"
      ],
      "metadata": {
        "colab": {
          "base_uri": "https://localhost:8080/"
        },
        "id": "K4FEFdM7d_ON",
        "outputId": "4dc20dfc-fcd5-4f1e-ec44-060d8511e406"
      },
      "execution_count": null,
      "outputs": [
        {
          "output_type": "stream",
          "name": "stderr",
          "text": [
            "<ipython-input-41-6f37f384e373>:12: SettingWithCopyWarning: \n",
            "A value is trying to be set on a copy of a slice from a DataFrame.\n",
            "Try using .loc[row_indexer,col_indexer] = value instead\n",
            "\n",
            "See the caveats in the documentation: https://pandas.pydata.org/pandas-docs/stable/user_guide/indexing.html#returning-a-view-versus-a-copy\n",
            "  df1['KDC'] = '00' + df1['KDC'].astype(str)\n"
          ]
        }
      ]
    },
    {
      "cell_type": "code",
      "source": [
        "import pandas as pd\n",
        "\n",
        "df = pd.read_excel('2022_1월.xlsx')\n",
        "\n",
        "columns_to_drop = ['순위', '저자', '출판사', '권', 'ISBN', 'ISBN부가기호']\n",
        "df.drop(columns=columns_to_drop, axis=1, inplace=True)\n",
        "\n",
        "mask = (df['KDC'] >= 3) & (df['KDC'] < 6) & (df['KDC'] != 5.3) & ~df['KDC'].isna()\n",
        "\n",
        "df1 = df[mask]\n",
        "\n",
        "df1['KDC'] = '00' + df1['KDC'].astype(str)\n",
        "\n",
        "df1.reset_index(drop=True, inplace=True)\n",
        "df1.to_excel('2022-01.xlsx', index=False)\n"
      ],
      "metadata": {
        "colab": {
          "base_uri": "https://localhost:8080/"
        },
        "id": "x8out9ExhUR9",
        "outputId": "284df5da-2a33-4b59-f66f-5b38d3353bb2"
      },
      "execution_count": null,
      "outputs": [
        {
          "output_type": "stream",
          "name": "stderr",
          "text": [
            "<ipython-input-42-40395e46cb8c>:12: SettingWithCopyWarning: \n",
            "A value is trying to be set on a copy of a slice from a DataFrame.\n",
            "Try using .loc[row_indexer,col_indexer] = value instead\n",
            "\n",
            "See the caveats in the documentation: https://pandas.pydata.org/pandas-docs/stable/user_guide/indexing.html#returning-a-view-versus-a-copy\n",
            "  df1['KDC'] = '00' + df1['KDC'].astype(str)\n"
          ]
        }
      ]
    },
    {
      "cell_type": "code",
      "source": [
        "import pandas as pd\n",
        "\n",
        "df = pd.read_excel('2022_2월.xlsx')\n",
        "\n",
        "columns_to_drop = ['순위', '저자', '출판사', '권', 'ISBN', 'ISBN부가기호']\n",
        "df.drop(columns=columns_to_drop, axis=1, inplace=True)\n",
        "\n",
        "mask = (df['KDC'] >= 3) & (df['KDC'] < 6) & (df['KDC'] != 5.3) & ~df['KDC'].isna()\n",
        "\n",
        "df1 = df[mask]\n",
        "\n",
        "df1['KDC'] = '00' + df1['KDC'].astype(str)\n",
        "\n",
        "df1.reset_index(drop=True, inplace=True)\n",
        "df1.to_excel('2022-02.xlsx', index=False)\n"
      ],
      "metadata": {
        "colab": {
          "base_uri": "https://localhost:8080/"
        },
        "id": "4Kyps1TrhZEo",
        "outputId": "b8c069bc-5632-4d67-a209-e8f3ab351bd1"
      },
      "execution_count": null,
      "outputs": [
        {
          "output_type": "stream",
          "name": "stderr",
          "text": [
            "<ipython-input-43-3a10730ad542>:12: SettingWithCopyWarning: \n",
            "A value is trying to be set on a copy of a slice from a DataFrame.\n",
            "Try using .loc[row_indexer,col_indexer] = value instead\n",
            "\n",
            "See the caveats in the documentation: https://pandas.pydata.org/pandas-docs/stable/user_guide/indexing.html#returning-a-view-versus-a-copy\n",
            "  df1['KDC'] = '00' + df1['KDC'].astype(str)\n"
          ]
        }
      ]
    },
    {
      "cell_type": "code",
      "source": [
        "import pandas as pd\n",
        "\n",
        "df = pd.read_excel('2022_3월.xlsx')\n",
        "\n",
        "columns_to_drop = ['순위', '저자', '출판사', '권', 'ISBN', 'ISBN부가기호']\n",
        "df.drop(columns=columns_to_drop, axis=1, inplace=True)\n",
        "\n",
        "mask = (df['KDC'] >= 3) & (df['KDC'] < 6) & (df['KDC'] != 5.3) & ~df['KDC'].isna()\n",
        "\n",
        "df1 = df[mask]\n",
        "\n",
        "df1['KDC'] = '00' + df1['KDC'].astype(str)\n",
        "\n",
        "df1.reset_index(drop=True, inplace=True)\n",
        "df1.to_excel('2022-03.xlsx', index=False)\n"
      ],
      "metadata": {
        "colab": {
          "base_uri": "https://localhost:8080/"
        },
        "id": "DGViQzA4hbaG",
        "outputId": "46fb7f9f-8d20-4f97-c759-927a5d9b9f64"
      },
      "execution_count": null,
      "outputs": [
        {
          "output_type": "stream",
          "name": "stderr",
          "text": [
            "<ipython-input-44-c54b57faee22>:12: SettingWithCopyWarning: \n",
            "A value is trying to be set on a copy of a slice from a DataFrame.\n",
            "Try using .loc[row_indexer,col_indexer] = value instead\n",
            "\n",
            "See the caveats in the documentation: https://pandas.pydata.org/pandas-docs/stable/user_guide/indexing.html#returning-a-view-versus-a-copy\n",
            "  df1['KDC'] = '00' + df1['KDC'].astype(str)\n"
          ]
        }
      ]
    },
    {
      "cell_type": "code",
      "source": [
        "import pandas as pd\n",
        "\n",
        "df = pd.read_excel('2022_4월.xlsx')\n",
        "\n",
        "columns_to_drop = ['순위', '저자', '출판사', '권', 'ISBN', 'ISBN부가기호']\n",
        "df.drop(columns=columns_to_drop, axis=1, inplace=True)\n",
        "\n",
        "mask = (df['KDC'] >= 3) & (df['KDC'] < 6) & (df['KDC'] != 5.3) & ~df['KDC'].isna()\n",
        "\n",
        "df1 = df[mask]\n",
        "\n",
        "df1['KDC'] = '00' + df1['KDC'].astype(str)\n",
        "\n",
        "df1.reset_index(drop=True, inplace=True)\n",
        "df1.to_excel('2022-04.xlsx', index=False)\n"
      ],
      "metadata": {
        "colab": {
          "base_uri": "https://localhost:8080/"
        },
        "id": "PZ_BaopRhdP6",
        "outputId": "6d08b4c8-fa51-4766-c6b3-bced526d377a"
      },
      "execution_count": null,
      "outputs": [
        {
          "output_type": "stream",
          "name": "stderr",
          "text": [
            "<ipython-input-45-4c58ec2c87cd>:12: SettingWithCopyWarning: \n",
            "A value is trying to be set on a copy of a slice from a DataFrame.\n",
            "Try using .loc[row_indexer,col_indexer] = value instead\n",
            "\n",
            "See the caveats in the documentation: https://pandas.pydata.org/pandas-docs/stable/user_guide/indexing.html#returning-a-view-versus-a-copy\n",
            "  df1['KDC'] = '00' + df1['KDC'].astype(str)\n"
          ]
        }
      ]
    },
    {
      "cell_type": "code",
      "source": [
        "import pandas as pd\n",
        "\n",
        "df = pd.read_excel('2022_5월.xlsx')\n",
        "\n",
        "columns_to_drop = ['순위', '저자', '출판사', '권', 'ISBN', 'ISBN부가기호']\n",
        "df.drop(columns=columns_to_drop, axis=1, inplace=True)\n",
        "\n",
        "mask = (df['KDC'] >= 3) & (df['KDC'] < 6) & (df['KDC'] != 5.3) & ~df['KDC'].isna()\n",
        "\n",
        "df1 = df[mask]\n",
        "\n",
        "df1['KDC'] = '00' + df1['KDC'].astype(str)\n",
        "\n",
        "df1.reset_index(drop=True, inplace=True)\n",
        "df1.to_excel('2022-05.xlsx', index=False)\n"
      ],
      "metadata": {
        "colab": {
          "base_uri": "https://localhost:8080/"
        },
        "id": "Ccm4G6r7hfwt",
        "outputId": "676b5aca-d31a-4b63-d102-f77479a583df"
      },
      "execution_count": null,
      "outputs": [
        {
          "output_type": "stream",
          "name": "stderr",
          "text": [
            "<ipython-input-46-d575c6082600>:12: SettingWithCopyWarning: \n",
            "A value is trying to be set on a copy of a slice from a DataFrame.\n",
            "Try using .loc[row_indexer,col_indexer] = value instead\n",
            "\n",
            "See the caveats in the documentation: https://pandas.pydata.org/pandas-docs/stable/user_guide/indexing.html#returning-a-view-versus-a-copy\n",
            "  df1['KDC'] = '00' + df1['KDC'].astype(str)\n"
          ]
        }
      ]
    },
    {
      "cell_type": "code",
      "source": [
        "import pandas as pd\n",
        "\n",
        "df = pd.read_excel('2022_6월.xlsx')\n",
        "\n",
        "columns_to_drop = ['순위', '저자', '출판사', '권', 'ISBN', 'ISBN부가기호']\n",
        "df.drop(columns=columns_to_drop, axis=1, inplace=True)\n",
        "\n",
        "mask = (df['KDC'] >= 3) & (df['KDC'] < 6) & (df['KDC'] != 5.3) & ~df['KDC'].isna()\n",
        "\n",
        "df1 = df[mask]\n",
        "\n",
        "df1['KDC'] = '00' + df1['KDC'].astype(str)\n",
        "\n",
        "df1.reset_index(drop=True, inplace=True)\n",
        "df1.to_excel('2022-06.xlsx', index=False)\n"
      ],
      "metadata": {
        "colab": {
          "base_uri": "https://localhost:8080/"
        },
        "id": "zy7w9yJ_hiYO",
        "outputId": "b1d54341-c9ba-477b-e340-e0e894ebfcb7"
      },
      "execution_count": null,
      "outputs": [
        {
          "output_type": "stream",
          "name": "stderr",
          "text": [
            "<ipython-input-47-20b08e6f25d2>:12: SettingWithCopyWarning: \n",
            "A value is trying to be set on a copy of a slice from a DataFrame.\n",
            "Try using .loc[row_indexer,col_indexer] = value instead\n",
            "\n",
            "See the caveats in the documentation: https://pandas.pydata.org/pandas-docs/stable/user_guide/indexing.html#returning-a-view-versus-a-copy\n",
            "  df1['KDC'] = '00' + df1['KDC'].astype(str)\n"
          ]
        }
      ]
    },
    {
      "cell_type": "code",
      "source": [
        "import pandas as pd\n",
        "\n",
        "df = pd.read_excel('2022_7월.xlsx')\n",
        "\n",
        "columns_to_drop = ['순위', '저자', '출판사', '권', 'ISBN', 'ISBN부가기호']\n",
        "df.drop(columns=columns_to_drop, axis=1, inplace=True)\n",
        "\n",
        "mask = (df['KDC'] >= 3) & (df['KDC'] < 6) & (df['KDC'] != 5.3) & ~df['KDC'].isna()\n",
        "\n",
        "df1 = df[mask]\n",
        "\n",
        "df1['KDC'] = '00' + df1['KDC'].astype(str)\n",
        "\n",
        "df1.reset_index(drop=True, inplace=True)\n",
        "df1.to_excel('2022-07.xlsx', index=False)\n"
      ],
      "metadata": {
        "colab": {
          "base_uri": "https://localhost:8080/"
        },
        "id": "NlKmuk_EhkYR",
        "outputId": "ba8e1196-4cc1-4c2e-ad26-07cd5150cc31"
      },
      "execution_count": null,
      "outputs": [
        {
          "output_type": "stream",
          "name": "stderr",
          "text": [
            "<ipython-input-48-27a592edaaef>:12: SettingWithCopyWarning: \n",
            "A value is trying to be set on a copy of a slice from a DataFrame.\n",
            "Try using .loc[row_indexer,col_indexer] = value instead\n",
            "\n",
            "See the caveats in the documentation: https://pandas.pydata.org/pandas-docs/stable/user_guide/indexing.html#returning-a-view-versus-a-copy\n",
            "  df1['KDC'] = '00' + df1['KDC'].astype(str)\n"
          ]
        }
      ]
    },
    {
      "cell_type": "code",
      "source": [
        "import pandas as pd\n",
        "\n",
        "df = pd.read_excel('2022_8월.xlsx')\n",
        "\n",
        "columns_to_drop = ['순위', '저자', '출판사', '권', 'ISBN', 'ISBN부가기호']\n",
        "df.drop(columns=columns_to_drop, axis=1, inplace=True)\n",
        "\n",
        "mask = (df['KDC'] >= 3) & (df['KDC'] < 6) & (df['KDC'] != 5.3) & ~df['KDC'].isna()\n",
        "\n",
        "df1 = df[mask]\n",
        "\n",
        "df1['KDC'] = '00' + df1['KDC'].astype(str)\n",
        "\n",
        "df1.reset_index(drop=True, inplace=True)\n",
        "df1.to_excel('2022-08.xlsx', index=False)\n"
      ],
      "metadata": {
        "colab": {
          "base_uri": "https://localhost:8080/"
        },
        "id": "PtKjJ6T9hm7w",
        "outputId": "738a3ea7-aabf-4587-89d5-178ce9f39c52"
      },
      "execution_count": null,
      "outputs": [
        {
          "output_type": "stream",
          "name": "stderr",
          "text": [
            "<ipython-input-49-e872b414330f>:12: SettingWithCopyWarning: \n",
            "A value is trying to be set on a copy of a slice from a DataFrame.\n",
            "Try using .loc[row_indexer,col_indexer] = value instead\n",
            "\n",
            "See the caveats in the documentation: https://pandas.pydata.org/pandas-docs/stable/user_guide/indexing.html#returning-a-view-versus-a-copy\n",
            "  df1['KDC'] = '00' + df1['KDC'].astype(str)\n"
          ]
        }
      ]
    },
    {
      "cell_type": "code",
      "source": [
        "import pandas as pd\n",
        "\n",
        "df = pd.read_excel('2022_9월.xlsx')\n",
        "\n",
        "columns_to_drop = ['순위', '저자', '출판사', '권', 'ISBN', 'ISBN부가기호']\n",
        "df.drop(columns=columns_to_drop, axis=1, inplace=True)\n",
        "\n",
        "mask = (df['KDC'] >= 3) & (df['KDC'] < 6) & (df['KDC'] != 5.3) & ~df['KDC'].isna()\n",
        "\n",
        "df1 = df[mask]\n",
        "\n",
        "df1['KDC'] = '00' + df1['KDC'].astype(str)\n",
        "\n",
        "df1.reset_index(drop=True, inplace=True)\n",
        "df1.to_excel('2022-09.xlsx', index=False)\n"
      ],
      "metadata": {
        "colab": {
          "base_uri": "https://localhost:8080/"
        },
        "id": "DJ7ebiyehp4j",
        "outputId": "22964472-f502-4d68-e193-7920b04613c4"
      },
      "execution_count": null,
      "outputs": [
        {
          "output_type": "stream",
          "name": "stderr",
          "text": [
            "<ipython-input-50-dec23132a33e>:12: SettingWithCopyWarning: \n",
            "A value is trying to be set on a copy of a slice from a DataFrame.\n",
            "Try using .loc[row_indexer,col_indexer] = value instead\n",
            "\n",
            "See the caveats in the documentation: https://pandas.pydata.org/pandas-docs/stable/user_guide/indexing.html#returning-a-view-versus-a-copy\n",
            "  df1['KDC'] = '00' + df1['KDC'].astype(str)\n"
          ]
        }
      ]
    },
    {
      "cell_type": "code",
      "source": [
        "import pandas as pd\n",
        "\n",
        "df = pd.read_excel('2022_10월.xlsx')\n",
        "\n",
        "columns_to_drop = ['순위', '저자', '출판사', '권', 'ISBN', 'ISBN부가기호']\n",
        "df.drop(columns=columns_to_drop, axis=1, inplace=True)\n",
        "\n",
        "mask = (df['KDC'] >= 3) & (df['KDC'] < 6) & (df['KDC'] != 5.3) & ~df['KDC'].isna()\n",
        "\n",
        "df1 = df[mask]\n",
        "\n",
        "df1['KDC'] = '00' + df1['KDC'].astype(str)\n",
        "\n",
        "df1.reset_index(drop=True, inplace=True)\n",
        "df1.to_excel('2022-10.xlsx', index=False)\n"
      ],
      "metadata": {
        "colab": {
          "base_uri": "https://localhost:8080/"
        },
        "id": "AWQORwn8hrw5",
        "outputId": "5c2cdc31-2eb8-4098-9ce1-113606287aad"
      },
      "execution_count": null,
      "outputs": [
        {
          "output_type": "stream",
          "name": "stderr",
          "text": [
            "<ipython-input-51-aa926d993942>:12: SettingWithCopyWarning: \n",
            "A value is trying to be set on a copy of a slice from a DataFrame.\n",
            "Try using .loc[row_indexer,col_indexer] = value instead\n",
            "\n",
            "See the caveats in the documentation: https://pandas.pydata.org/pandas-docs/stable/user_guide/indexing.html#returning-a-view-versus-a-copy\n",
            "  df1['KDC'] = '00' + df1['KDC'].astype(str)\n"
          ]
        }
      ]
    },
    {
      "cell_type": "code",
      "source": [
        "import pandas as pd\n",
        "\n",
        "df = pd.read_excel('2022_11월.xlsx')\n",
        "\n",
        "columns_to_drop = ['순위', '저자', '출판사', '권', 'ISBN', 'ISBN부가기호']\n",
        "df.drop(columns=columns_to_drop, axis=1, inplace=True)\n",
        "\n",
        "mask = (df['KDC'] >= 3) & (df['KDC'] < 6) & (df['KDC'] != 5.3) & ~df['KDC'].isna()\n",
        "\n",
        "df1 = df[mask]\n",
        "\n",
        "df1['KDC'] = '00' + df1['KDC'].astype(str)\n",
        "\n",
        "df1.reset_index(drop=True, inplace=True)\n",
        "df1.to_excel('2022-11.xlsx', index=False)\n"
      ],
      "metadata": {
        "id": "jUw8krm3ht65",
        "outputId": "d1942ec1-735d-4f6f-b0d7-66486896d577",
        "colab": {
          "base_uri": "https://localhost:8080/"
        }
      },
      "execution_count": null,
      "outputs": [
        {
          "output_type": "stream",
          "name": "stderr",
          "text": [
            "<ipython-input-52-b7b4175f5fe5>:12: SettingWithCopyWarning: \n",
            "A value is trying to be set on a copy of a slice from a DataFrame.\n",
            "Try using .loc[row_indexer,col_indexer] = value instead\n",
            "\n",
            "See the caveats in the documentation: https://pandas.pydata.org/pandas-docs/stable/user_guide/indexing.html#returning-a-view-versus-a-copy\n",
            "  df1['KDC'] = '00' + df1['KDC'].astype(str)\n"
          ]
        }
      ]
    },
    {
      "cell_type": "code",
      "source": [
        "import pandas as pd\n",
        "\n",
        "df = pd.read_excel('2022_12월.xlsx')\n",
        "\n",
        "columns_to_drop = ['순위', '저자', '출판사', '권', 'ISBN', 'ISBN부가기호']\n",
        "df.drop(columns=columns_to_drop, axis=1, inplace=True)\n",
        "\n",
        "mask = (df['KDC'] >= 3) & (df['KDC'] < 6) & (df['KDC'] != 5.3) & ~df['KDC'].isna()\n",
        "\n",
        "df1 = df[mask]\n",
        "\n",
        "df1['KDC'] = '00' + df1['KDC'].astype(str)\n",
        "\n",
        "df1.reset_index(drop=True, inplace=True)\n",
        "df1.to_excel('2022-12.xlsx', index=False)\n"
      ],
      "metadata": {
        "id": "16R7u3m8hvgs",
        "outputId": "5f5cd1b9-6362-4a89-dc7d-efb412229e06",
        "colab": {
          "base_uri": "https://localhost:8080/"
        }
      },
      "execution_count": null,
      "outputs": [
        {
          "output_type": "stream",
          "name": "stderr",
          "text": [
            "<ipython-input-53-9f5dc83f85d8>:12: SettingWithCopyWarning: \n",
            "A value is trying to be set on a copy of a slice from a DataFrame.\n",
            "Try using .loc[row_indexer,col_indexer] = value instead\n",
            "\n",
            "See the caveats in the documentation: https://pandas.pydata.org/pandas-docs/stable/user_guide/indexing.html#returning-a-view-versus-a-copy\n",
            "  df1['KDC'] = '00' + df1['KDC'].astype(str)\n"
          ]
        }
      ]
    },
    {
      "cell_type": "code",
      "source": [
        "import pandas as pd\n",
        "\n",
        "df = pd.read_excel('2018_1월.xlsx')\n",
        "\n",
        "columns_to_drop = ['순위', '저자', '출판사', '권', 'ISBN', 'ISBN부가기호']\n",
        "df.drop(columns=columns_to_drop, axis=1, inplace=True)\n",
        "\n",
        "mask = (df['KDC'] >= 3) & (df['KDC'] < 6) & (df['KDC'] != 5.3) & ~df['KDC'].isna()\n",
        "\n",
        "df1 = df[mask]\n",
        "\n",
        "df1['KDC'] = '00' + df1['KDC'].astype(str)\n",
        "\n",
        "df1.reset_index(drop=True, inplace=True)\n",
        "df1.to_excel('2018-01.xlsx', index=False)\n"
      ],
      "metadata": {
        "colab": {
          "base_uri": "https://localhost:8080/"
        },
        "id": "S26RSNfuh5bs",
        "outputId": "83502b43-65fa-44d8-a7f7-44830710bca2"
      },
      "execution_count": null,
      "outputs": [
        {
          "output_type": "stream",
          "name": "stderr",
          "text": [
            "<ipython-input-56-181868ec9c23>:12: SettingWithCopyWarning: \n",
            "A value is trying to be set on a copy of a slice from a DataFrame.\n",
            "Try using .loc[row_indexer,col_indexer] = value instead\n",
            "\n",
            "See the caveats in the documentation: https://pandas.pydata.org/pandas-docs/stable/user_guide/indexing.html#returning-a-view-versus-a-copy\n",
            "  df1['KDC'] = '00' + df1['KDC'].astype(str)\n"
          ]
        }
      ]
    },
    {
      "cell_type": "code",
      "source": [
        "import pandas as pd\n",
        "\n",
        "df = pd.read_excel('2018_2월.xlsx')\n",
        "\n",
        "columns_to_drop = ['순위', '저자', '출판사', '권', 'ISBN', 'ISBN부가기호']\n",
        "df.drop(columns=columns_to_drop, axis=1, inplace=True)\n",
        "\n",
        "mask = (df['KDC'] >= 3) & (df['KDC'] < 6) & (df['KDC'] != 5.3) & ~df['KDC'].isna()\n",
        "\n",
        "df1 = df[mask]\n",
        "\n",
        "df1['KDC'] = '00' + df1['KDC'].astype(str)\n",
        "\n",
        "df1.reset_index(drop=True, inplace=True)\n",
        "df1.to_excel('2018-02.xlsx', index=False)\n"
      ],
      "metadata": {
        "colab": {
          "base_uri": "https://localhost:8080/"
        },
        "id": "oSjtm-r-jtud",
        "outputId": "58cb036a-a937-46a0-8828-8f867ea7c8de"
      },
      "execution_count": null,
      "outputs": [
        {
          "output_type": "stream",
          "name": "stderr",
          "text": [
            "<ipython-input-57-2ea3ff820696>:12: SettingWithCopyWarning: \n",
            "A value is trying to be set on a copy of a slice from a DataFrame.\n",
            "Try using .loc[row_indexer,col_indexer] = value instead\n",
            "\n",
            "See the caveats in the documentation: https://pandas.pydata.org/pandas-docs/stable/user_guide/indexing.html#returning-a-view-versus-a-copy\n",
            "  df1['KDC'] = '00' + df1['KDC'].astype(str)\n"
          ]
        }
      ]
    },
    {
      "cell_type": "code",
      "source": [
        "import pandas as pd\n",
        "\n",
        "df = pd.read_excel('2018_3월.xlsx')\n",
        "\n",
        "columns_to_drop = ['순위', '저자', '출판사', '권', 'ISBN', 'ISBN부가기호']\n",
        "df.drop(columns=columns_to_drop, axis=1, inplace=True)\n",
        "\n",
        "mask = (df['KDC'] >= 3) & (df['KDC'] < 6) & (df['KDC'] != 5.3) & ~df['KDC'].isna()\n",
        "\n",
        "df1 = df[mask]\n",
        "\n",
        "df1['KDC'] = '00' + df1['KDC'].astype(str)\n",
        "\n",
        "df1.reset_index(drop=True, inplace=True)\n",
        "df1.to_excel('2018-03.xlsx', index=False)\n"
      ],
      "metadata": {
        "colab": {
          "base_uri": "https://localhost:8080/"
        },
        "id": "tKBropprjzhX",
        "outputId": "c07577ce-77a5-4508-9f59-993dfa61881d"
      },
      "execution_count": null,
      "outputs": [
        {
          "output_type": "stream",
          "name": "stderr",
          "text": [
            "<ipython-input-58-4d44358228a8>:12: SettingWithCopyWarning: \n",
            "A value is trying to be set on a copy of a slice from a DataFrame.\n",
            "Try using .loc[row_indexer,col_indexer] = value instead\n",
            "\n",
            "See the caveats in the documentation: https://pandas.pydata.org/pandas-docs/stable/user_guide/indexing.html#returning-a-view-versus-a-copy\n",
            "  df1['KDC'] = '00' + df1['KDC'].astype(str)\n"
          ]
        }
      ]
    },
    {
      "cell_type": "code",
      "source": [
        "import pandas as pd\n",
        "\n",
        "df = pd.read_excel('2018_4월.xlsx')\n",
        "\n",
        "columns_to_drop = ['순위', '저자', '출판사', '권', 'ISBN', 'ISBN부가기호']\n",
        "df.drop(columns=columns_to_drop, axis=1, inplace=True)\n",
        "\n",
        "mask = (df['KDC'] >= 3) & (df['KDC'] < 6) & (df['KDC'] != 5.3) & ~df['KDC'].isna()\n",
        "\n",
        "df1 = df[mask]\n",
        "\n",
        "df1['KDC'] = '00' + df1['KDC'].astype(str)\n",
        "\n",
        "df1.reset_index(drop=True, inplace=True)\n",
        "df1.to_excel('2018-04.xlsx', index=False)\n"
      ],
      "metadata": {
        "colab": {
          "base_uri": "https://localhost:8080/"
        },
        "id": "Qd2ZIXqAj1vs",
        "outputId": "7a459e28-71b0-4c6f-c6c1-0ba40a9d7d0f"
      },
      "execution_count": null,
      "outputs": [
        {
          "output_type": "stream",
          "name": "stderr",
          "text": [
            "<ipython-input-59-582d57a8aab6>:12: SettingWithCopyWarning: \n",
            "A value is trying to be set on a copy of a slice from a DataFrame.\n",
            "Try using .loc[row_indexer,col_indexer] = value instead\n",
            "\n",
            "See the caveats in the documentation: https://pandas.pydata.org/pandas-docs/stable/user_guide/indexing.html#returning-a-view-versus-a-copy\n",
            "  df1['KDC'] = '00' + df1['KDC'].astype(str)\n"
          ]
        }
      ]
    },
    {
      "cell_type": "code",
      "source": [
        "import pandas as pd\n",
        "\n",
        "df = pd.read_excel('2018_5월.xlsx')\n",
        "\n",
        "columns_to_drop = ['순위', '저자', '출판사', '권', 'ISBN', 'ISBN부가기호']\n",
        "df.drop(columns=columns_to_drop, axis=1, inplace=True)\n",
        "\n",
        "mask = (df['KDC'] >= 3) & (df['KDC'] < 6) & (df['KDC'] != 5.3) & ~df['KDC'].isna()\n",
        "\n",
        "df1 = df[mask]\n",
        "\n",
        "df1['KDC'] = '00' + df1['KDC'].astype(str)\n",
        "\n",
        "df1.reset_index(drop=True, inplace=True)\n",
        "df1.to_excel('2018-05.xlsx', index=False)\n"
      ],
      "metadata": {
        "colab": {
          "base_uri": "https://localhost:8080/"
        },
        "id": "azTGc3uyj5Q-",
        "outputId": "c850e335-4daa-4e1f-c78c-c38ab85564fb"
      },
      "execution_count": null,
      "outputs": [
        {
          "output_type": "stream",
          "name": "stderr",
          "text": [
            "<ipython-input-60-5c9f2b2e8b98>:12: SettingWithCopyWarning: \n",
            "A value is trying to be set on a copy of a slice from a DataFrame.\n",
            "Try using .loc[row_indexer,col_indexer] = value instead\n",
            "\n",
            "See the caveats in the documentation: https://pandas.pydata.org/pandas-docs/stable/user_guide/indexing.html#returning-a-view-versus-a-copy\n",
            "  df1['KDC'] = '00' + df1['KDC'].astype(str)\n"
          ]
        }
      ]
    },
    {
      "cell_type": "code",
      "source": [
        "import pandas as pd\n",
        "\n",
        "df = pd.read_excel('2018_6월.xlsx')\n",
        "\n",
        "columns_to_drop = ['순위', '저자', '출판사', '권', 'ISBN', 'ISBN부가기호']\n",
        "df.drop(columns=columns_to_drop, axis=1, inplace=True)\n",
        "\n",
        "mask = (df['KDC'] >= 3) & (df['KDC'] < 6) & (df['KDC'] != 5.3) & ~df['KDC'].isna()\n",
        "\n",
        "df1 = df[mask]\n",
        "\n",
        "df1['KDC'] = '00' + df1['KDC'].astype(str)\n",
        "\n",
        "df1.reset_index(drop=True, inplace=True)\n",
        "df1.to_excel('2018-06.xlsx', index=False)\n"
      ],
      "metadata": {
        "colab": {
          "base_uri": "https://localhost:8080/"
        },
        "id": "ZCMPO0OVj79R",
        "outputId": "5fefbe9d-77c3-4c81-d387-859c90188dd0"
      },
      "execution_count": null,
      "outputs": [
        {
          "output_type": "stream",
          "name": "stderr",
          "text": [
            "<ipython-input-61-756c2dac09ff>:12: SettingWithCopyWarning: \n",
            "A value is trying to be set on a copy of a slice from a DataFrame.\n",
            "Try using .loc[row_indexer,col_indexer] = value instead\n",
            "\n",
            "See the caveats in the documentation: https://pandas.pydata.org/pandas-docs/stable/user_guide/indexing.html#returning-a-view-versus-a-copy\n",
            "  df1['KDC'] = '00' + df1['KDC'].astype(str)\n"
          ]
        }
      ]
    },
    {
      "cell_type": "code",
      "source": [
        "import pandas as pd\n",
        "\n",
        "df = pd.read_excel('2018_7월.xlsx')\n",
        "\n",
        "columns_to_drop = ['순위', '저자', '출판사', '권', 'ISBN', 'ISBN부가기호']\n",
        "df.drop(columns=columns_to_drop, axis=1, inplace=True)\n",
        "\n",
        "mask = (df['KDC'] >= 3) & (df['KDC'] < 6) & (df['KDC'] != 5.3) & ~df['KDC'].isna()\n",
        "\n",
        "df1 = df[mask]\n",
        "\n",
        "df1['KDC'] = '00' + df1['KDC'].astype(str)\n",
        "\n",
        "df1.reset_index(drop=True, inplace=True)\n",
        "df1.to_excel('2018-07.xlsx', index=False)\n"
      ],
      "metadata": {
        "colab": {
          "base_uri": "https://localhost:8080/"
        },
        "id": "KD6-gLHsj-HO",
        "outputId": "0786b67d-3fd0-4446-fcb8-917acbfbfb8f"
      },
      "execution_count": null,
      "outputs": [
        {
          "output_type": "stream",
          "name": "stderr",
          "text": [
            "<ipython-input-62-547b802020fb>:12: SettingWithCopyWarning: \n",
            "A value is trying to be set on a copy of a slice from a DataFrame.\n",
            "Try using .loc[row_indexer,col_indexer] = value instead\n",
            "\n",
            "See the caveats in the documentation: https://pandas.pydata.org/pandas-docs/stable/user_guide/indexing.html#returning-a-view-versus-a-copy\n",
            "  df1['KDC'] = '00' + df1['KDC'].astype(str)\n"
          ]
        }
      ]
    },
    {
      "cell_type": "code",
      "source": [
        "import pandas as pd\n",
        "\n",
        "df = pd.read_excel('2018_8월.xlsx')\n",
        "\n",
        "columns_to_drop = ['순위', '저자', '출판사', '권', 'ISBN', 'ISBN부가기호']\n",
        "df.drop(columns=columns_to_drop, axis=1, inplace=True)\n",
        "\n",
        "mask = (df['KDC'] >= 3) & (df['KDC'] < 6) & (df['KDC'] != 5.3) & ~df['KDC'].isna()\n",
        "\n",
        "df1 = df[mask]\n",
        "\n",
        "df1['KDC'] = '00' + df1['KDC'].astype(str)\n",
        "\n",
        "df1.reset_index(drop=True, inplace=True)\n",
        "df1.to_excel('2018-08.xlsx', index=False)\n"
      ],
      "metadata": {
        "colab": {
          "base_uri": "https://localhost:8080/"
        },
        "id": "MQA943Z9kACD",
        "outputId": "23e3ba5c-03eb-4e8d-beaf-9f973864b1ff"
      },
      "execution_count": null,
      "outputs": [
        {
          "output_type": "stream",
          "name": "stderr",
          "text": [
            "<ipython-input-63-a36a60604da2>:12: SettingWithCopyWarning: \n",
            "A value is trying to be set on a copy of a slice from a DataFrame.\n",
            "Try using .loc[row_indexer,col_indexer] = value instead\n",
            "\n",
            "See the caveats in the documentation: https://pandas.pydata.org/pandas-docs/stable/user_guide/indexing.html#returning-a-view-versus-a-copy\n",
            "  df1['KDC'] = '00' + df1['KDC'].astype(str)\n"
          ]
        }
      ]
    },
    {
      "cell_type": "code",
      "source": [
        "import pandas as pd\n",
        "\n",
        "df = pd.read_excel('2018_9월.xlsx')\n",
        "\n",
        "columns_to_drop = ['순위', '저자', '출판사', '권', 'ISBN', 'ISBN부가기호']\n",
        "df.drop(columns=columns_to_drop, axis=1, inplace=True)\n",
        "\n",
        "mask = (df['KDC'] >= 3) & (df['KDC'] < 6) & (df['KDC'] != 5.3) & ~df['KDC'].isna()\n",
        "\n",
        "df1 = df[mask]\n",
        "\n",
        "df1['KDC'] = '00' + df1['KDC'].astype(str)\n",
        "\n",
        "df1.reset_index(drop=True, inplace=True)\n",
        "df1.to_excel('2018-09.xlsx', index=False)\n"
      ],
      "metadata": {
        "colab": {
          "base_uri": "https://localhost:8080/"
        },
        "id": "P6pzFijwkB9R",
        "outputId": "fe77d1e7-a6bb-44cb-f8c3-d9cc0482f491"
      },
      "execution_count": null,
      "outputs": [
        {
          "output_type": "stream",
          "name": "stderr",
          "text": [
            "<ipython-input-64-6adb107a0f28>:12: SettingWithCopyWarning: \n",
            "A value is trying to be set on a copy of a slice from a DataFrame.\n",
            "Try using .loc[row_indexer,col_indexer] = value instead\n",
            "\n",
            "See the caveats in the documentation: https://pandas.pydata.org/pandas-docs/stable/user_guide/indexing.html#returning-a-view-versus-a-copy\n",
            "  df1['KDC'] = '00' + df1['KDC'].astype(str)\n"
          ]
        }
      ]
    },
    {
      "cell_type": "code",
      "source": [
        "import pandas as pd\n",
        "\n",
        "df = pd.read_excel('2018_10월.xlsx')\n",
        "\n",
        "columns_to_drop = ['순위', '저자', '출판사', '권', 'ISBN', 'ISBN부가기호']\n",
        "df.drop(columns=columns_to_drop, axis=1, inplace=True)\n",
        "\n",
        "mask = (df['KDC'] >= 3) & (df['KDC'] < 6) & (df['KDC'] != 5.3) & ~df['KDC'].isna()\n",
        "\n",
        "df1 = df[mask]\n",
        "\n",
        "df1['KDC'] = '00' + df1['KDC'].astype(str)\n",
        "\n",
        "df1.reset_index(drop=True, inplace=True)\n",
        "df1.to_excel('2018-10.xlsx', index=False)\n"
      ],
      "metadata": {
        "colab": {
          "base_uri": "https://localhost:8080/"
        },
        "id": "amp_uOk3kD9_",
        "outputId": "038827a7-bc91-47ed-b5aa-a5d8581e7aa8"
      },
      "execution_count": null,
      "outputs": [
        {
          "output_type": "stream",
          "name": "stderr",
          "text": [
            "<ipython-input-65-edaff17d8f11>:12: SettingWithCopyWarning: \n",
            "A value is trying to be set on a copy of a slice from a DataFrame.\n",
            "Try using .loc[row_indexer,col_indexer] = value instead\n",
            "\n",
            "See the caveats in the documentation: https://pandas.pydata.org/pandas-docs/stable/user_guide/indexing.html#returning-a-view-versus-a-copy\n",
            "  df1['KDC'] = '00' + df1['KDC'].astype(str)\n"
          ]
        }
      ]
    },
    {
      "cell_type": "code",
      "source": [
        "import pandas as pd\n",
        "\n",
        "df = pd.read_excel('2018_11월.xlsx')\n",
        "\n",
        "columns_to_drop = ['순위', '저자', '출판사', '권', 'ISBN', 'ISBN부가기호']\n",
        "df.drop(columns=columns_to_drop, axis=1, inplace=True)\n",
        "\n",
        "mask = (df['KDC'] >= 3) & (df['KDC'] < 6) & (df['KDC'] != 5.3) & ~df['KDC'].isna()\n",
        "\n",
        "df1 = df[mask]\n",
        "\n",
        "df1['KDC'] = '00' + df1['KDC'].astype(str)\n",
        "\n",
        "df1.reset_index(drop=True, inplace=True)\n",
        "df1.to_excel('2018-11.xlsx', index=False)\n"
      ],
      "metadata": {
        "colab": {
          "base_uri": "https://localhost:8080/"
        },
        "id": "Ql9hVu11kGVi",
        "outputId": "c8a89ae5-7983-4566-f267-05b6e509da24"
      },
      "execution_count": null,
      "outputs": [
        {
          "output_type": "stream",
          "name": "stderr",
          "text": [
            "<ipython-input-66-735326b20108>:12: SettingWithCopyWarning: \n",
            "A value is trying to be set on a copy of a slice from a DataFrame.\n",
            "Try using .loc[row_indexer,col_indexer] = value instead\n",
            "\n",
            "See the caveats in the documentation: https://pandas.pydata.org/pandas-docs/stable/user_guide/indexing.html#returning-a-view-versus-a-copy\n",
            "  df1['KDC'] = '00' + df1['KDC'].astype(str)\n"
          ]
        }
      ]
    },
    {
      "cell_type": "code",
      "source": [
        "import pandas as pd\n",
        "\n",
        "df = pd.read_excel('2018_12월.xlsx')\n",
        "\n",
        "columns_to_drop = ['순위', '저자', '출판사', '권', 'ISBN', 'ISBN부가기호']\n",
        "df.drop(columns=columns_to_drop, axis=1, inplace=True)\n",
        "\n",
        "mask = (df['KDC'] >= 3) & (df['KDC'] < 6) & (df['KDC'] != 5.3) & ~df['KDC'].isna()\n",
        "\n",
        "df1 = df[mask]\n",
        "\n",
        "df1['KDC'] = '00' + df1['KDC'].astype(str)\n",
        "\n",
        "df1.reset_index(drop=True, inplace=True)\n",
        "df1.to_excel('2018-12.xlsx', index=False)\n"
      ],
      "metadata": {
        "colab": {
          "base_uri": "https://localhost:8080/"
        },
        "id": "YpEU6uB5kIA4",
        "outputId": "9bec3197-ffb8-4426-d01c-717d3e765631"
      },
      "execution_count": null,
      "outputs": [
        {
          "output_type": "stream",
          "name": "stderr",
          "text": [
            "<ipython-input-67-555eb5d3d4c9>:12: SettingWithCopyWarning: \n",
            "A value is trying to be set on a copy of a slice from a DataFrame.\n",
            "Try using .loc[row_indexer,col_indexer] = value instead\n",
            "\n",
            "See the caveats in the documentation: https://pandas.pydata.org/pandas-docs/stable/user_guide/indexing.html#returning-a-view-versus-a-copy\n",
            "  df1['KDC'] = '00' + df1['KDC'].astype(str)\n"
          ]
        }
      ]
    },
    {
      "cell_type": "code",
      "source": [
        "import pandas as pd\n",
        "import glob\n",
        "\n",
        "file_pattern = '/content/drive/MyDrive/인기대출도서_2018_Data/2018_*.xlsx'\n",
        "files = glob.glob(file_pattern)\n",
        "\n",
        "for file in files:\n",
        "    df = pd.read_excel(file)\n",
        "    columns_to_drop = ['순위', '저자', '출판사', '권', 'ISBN', 'ISBN부가기호']\n",
        "    df.drop(columns=columns_to_drop, axis=1, inplace=True)\n",
        "\n",
        "    values_to_drop_kdc = ['004.077', '004.76', '005.5']\n",
        "    mask_kdc = (df['KDC'] >= 3) & (df['KDC'] < 6) & (df['KDC'] != 5.3) & ~df['KDC'].isna() & ~(df['KDC'].isin(values_to_drop_kdc))\n",
        "\n",
        "    mask_signature = ~df['서명'].str.contains('Why?', case=False, na=False)\n",
        "\n",
        "    words_to_drop = ['엑셀', '3D', '유튜브', '컴퓨터활용능력', '영상 편집', '포토샵', '사진 편집', '일러스트레이터','워드프로세서','블로그','파워포인트','영상']\n",
        "    mask_words = ~df['서명'].str.contains('|'.join(words_to_drop), case=False, na=False)\n",
        "\n",
        "    df1 = df[mask_kdc & mask_signature & mask_words]\n",
        "\n",
        "    df1['KDC'] = '00' + df1['KDC'].astype(str)\n",
        "    df1.reset_index(drop=True, inplace=True)\n",
        "\n",
        "    year_month = file.split('/')[-1].replace('.xlsx', '')\n",
        "    new_file_path = f'/content/drive/MyDrive/2018 데이터 가공/{year_month}.xlsx'\n",
        "    df1.to_excel(new_file_path, index=False)\n"
      ],
      "metadata": {
        "id": "OBu3MiEKanNR",
        "colab": {
          "base_uri": "https://localhost:8080/"
        },
        "outputId": "3c2ab308-4602-47b6-a79f-4169a1fb452b"
      },
      "execution_count": null,
      "outputs": [
        {
          "output_type": "stream",
          "name": "stderr",
          "text": [
            "<ipython-input-7-4fe1b71fc406>:22: SettingWithCopyWarning: \n",
            "A value is trying to be set on a copy of a slice from a DataFrame.\n",
            "Try using .loc[row_indexer,col_indexer] = value instead\n",
            "\n",
            "See the caveats in the documentation: https://pandas.pydata.org/pandas-docs/stable/user_guide/indexing.html#returning-a-view-versus-a-copy\n",
            "  df1['KDC'] = '00' + df1['KDC'].astype(str)\n",
            "<ipython-input-7-4fe1b71fc406>:22: SettingWithCopyWarning: \n",
            "A value is trying to be set on a copy of a slice from a DataFrame.\n",
            "Try using .loc[row_indexer,col_indexer] = value instead\n",
            "\n",
            "See the caveats in the documentation: https://pandas.pydata.org/pandas-docs/stable/user_guide/indexing.html#returning-a-view-versus-a-copy\n",
            "  df1['KDC'] = '00' + df1['KDC'].astype(str)\n",
            "<ipython-input-7-4fe1b71fc406>:22: SettingWithCopyWarning: \n",
            "A value is trying to be set on a copy of a slice from a DataFrame.\n",
            "Try using .loc[row_indexer,col_indexer] = value instead\n",
            "\n",
            "See the caveats in the documentation: https://pandas.pydata.org/pandas-docs/stable/user_guide/indexing.html#returning-a-view-versus-a-copy\n",
            "  df1['KDC'] = '00' + df1['KDC'].astype(str)\n",
            "<ipython-input-7-4fe1b71fc406>:22: SettingWithCopyWarning: \n",
            "A value is trying to be set on a copy of a slice from a DataFrame.\n",
            "Try using .loc[row_indexer,col_indexer] = value instead\n",
            "\n",
            "See the caveats in the documentation: https://pandas.pydata.org/pandas-docs/stable/user_guide/indexing.html#returning-a-view-versus-a-copy\n",
            "  df1['KDC'] = '00' + df1['KDC'].astype(str)\n",
            "<ipython-input-7-4fe1b71fc406>:22: SettingWithCopyWarning: \n",
            "A value is trying to be set on a copy of a slice from a DataFrame.\n",
            "Try using .loc[row_indexer,col_indexer] = value instead\n",
            "\n",
            "See the caveats in the documentation: https://pandas.pydata.org/pandas-docs/stable/user_guide/indexing.html#returning-a-view-versus-a-copy\n",
            "  df1['KDC'] = '00' + df1['KDC'].astype(str)\n",
            "<ipython-input-7-4fe1b71fc406>:22: SettingWithCopyWarning: \n",
            "A value is trying to be set on a copy of a slice from a DataFrame.\n",
            "Try using .loc[row_indexer,col_indexer] = value instead\n",
            "\n",
            "See the caveats in the documentation: https://pandas.pydata.org/pandas-docs/stable/user_guide/indexing.html#returning-a-view-versus-a-copy\n",
            "  df1['KDC'] = '00' + df1['KDC'].astype(str)\n",
            "<ipython-input-7-4fe1b71fc406>:22: SettingWithCopyWarning: \n",
            "A value is trying to be set on a copy of a slice from a DataFrame.\n",
            "Try using .loc[row_indexer,col_indexer] = value instead\n",
            "\n",
            "See the caveats in the documentation: https://pandas.pydata.org/pandas-docs/stable/user_guide/indexing.html#returning-a-view-versus-a-copy\n",
            "  df1['KDC'] = '00' + df1['KDC'].astype(str)\n",
            "<ipython-input-7-4fe1b71fc406>:22: SettingWithCopyWarning: \n",
            "A value is trying to be set on a copy of a slice from a DataFrame.\n",
            "Try using .loc[row_indexer,col_indexer] = value instead\n",
            "\n",
            "See the caveats in the documentation: https://pandas.pydata.org/pandas-docs/stable/user_guide/indexing.html#returning-a-view-versus-a-copy\n",
            "  df1['KDC'] = '00' + df1['KDC'].astype(str)\n",
            "<ipython-input-7-4fe1b71fc406>:22: SettingWithCopyWarning: \n",
            "A value is trying to be set on a copy of a slice from a DataFrame.\n",
            "Try using .loc[row_indexer,col_indexer] = value instead\n",
            "\n",
            "See the caveats in the documentation: https://pandas.pydata.org/pandas-docs/stable/user_guide/indexing.html#returning-a-view-versus-a-copy\n",
            "  df1['KDC'] = '00' + df1['KDC'].astype(str)\n",
            "<ipython-input-7-4fe1b71fc406>:22: SettingWithCopyWarning: \n",
            "A value is trying to be set on a copy of a slice from a DataFrame.\n",
            "Try using .loc[row_indexer,col_indexer] = value instead\n",
            "\n",
            "See the caveats in the documentation: https://pandas.pydata.org/pandas-docs/stable/user_guide/indexing.html#returning-a-view-versus-a-copy\n",
            "  df1['KDC'] = '00' + df1['KDC'].astype(str)\n",
            "<ipython-input-7-4fe1b71fc406>:22: SettingWithCopyWarning: \n",
            "A value is trying to be set on a copy of a slice from a DataFrame.\n",
            "Try using .loc[row_indexer,col_indexer] = value instead\n",
            "\n",
            "See the caveats in the documentation: https://pandas.pydata.org/pandas-docs/stable/user_guide/indexing.html#returning-a-view-versus-a-copy\n",
            "  df1['KDC'] = '00' + df1['KDC'].astype(str)\n",
            "<ipython-input-7-4fe1b71fc406>:22: SettingWithCopyWarning: \n",
            "A value is trying to be set on a copy of a slice from a DataFrame.\n",
            "Try using .loc[row_indexer,col_indexer] = value instead\n",
            "\n",
            "See the caveats in the documentation: https://pandas.pydata.org/pandas-docs/stable/user_guide/indexing.html#returning-a-view-versus-a-copy\n",
            "  df1['KDC'] = '00' + df1['KDC'].astype(str)\n"
          ]
        }
      ]
    },
    {
      "cell_type": "code",
      "source": [
        "import pandas as pd\n",
        "import glob\n",
        "\n",
        "file_pattern = '/content/drive/MyDrive/인기대출도서 2019_Data/2019_*.xlsx'\n",
        "files = glob.glob(file_pattern)\n",
        "\n",
        "for file in files:\n",
        "    df = pd.read_excel(file)\n",
        "    columns_to_drop = ['순위', '저자', '출판사', '권', 'ISBN', 'ISBN부가기호']\n",
        "    df.drop(columns=columns_to_drop, axis=1, inplace=True)\n",
        "\n",
        "    values_to_drop_kdc = ['004.077', '004.76', '005.5']\n",
        "    mask_kdc = (df['KDC'] >= 3) & (df['KDC'] < 6) & (df['KDC'] != 5.3) & ~df['KDC'].isna() & ~(df['KDC'].isin(values_to_drop_kdc))\n",
        "\n",
        "    mask_signature = ~df['서명'].str.contains('Why?', case=False, na=False)\n",
        "\n",
        "    words_to_drop = ['엑셀', '3D', '유튜브', '컴퓨터활용능력', '영상 편집', '포토샵', '사진 편집', '일러스트레이터','워드프로세서','블로그','파워포인트','영상']\n",
        "    mask_words = ~df['서명'].str.contains('|'.join(words_to_drop), case=False, na=False)\n",
        "\n",
        "    df1 = df[mask_kdc & mask_signature & mask_words]\n",
        "\n",
        "    df1['KDC'] = '00' + df1['KDC'].astype(str)\n",
        "    df1.reset_index(drop=True, inplace=True)\n",
        "\n",
        "    year_month = file.split('/')[-1].replace('.xlsx', '')\n",
        "    new_file_path = f'/content/drive/MyDrive/2019 데이터 가공/{year_month}.xlsx'\n",
        "    df1.to_excel(new_file_path, index=False)\n"
      ],
      "metadata": {
        "colab": {
          "base_uri": "https://localhost:8080/"
        },
        "id": "Z3jJXouPoNlh",
        "outputId": "23da1c14-4059-420e-d46f-5bdb9ffbb459"
      },
      "execution_count": null,
      "outputs": [
        {
          "output_type": "stream",
          "name": "stderr",
          "text": [
            "<ipython-input-10-4569e8e54aa9>:22: SettingWithCopyWarning: \n",
            "A value is trying to be set on a copy of a slice from a DataFrame.\n",
            "Try using .loc[row_indexer,col_indexer] = value instead\n",
            "\n",
            "See the caveats in the documentation: https://pandas.pydata.org/pandas-docs/stable/user_guide/indexing.html#returning-a-view-versus-a-copy\n",
            "  df1['KDC'] = '00' + df1['KDC'].astype(str)\n",
            "<ipython-input-10-4569e8e54aa9>:22: SettingWithCopyWarning: \n",
            "A value is trying to be set on a copy of a slice from a DataFrame.\n",
            "Try using .loc[row_indexer,col_indexer] = value instead\n",
            "\n",
            "See the caveats in the documentation: https://pandas.pydata.org/pandas-docs/stable/user_guide/indexing.html#returning-a-view-versus-a-copy\n",
            "  df1['KDC'] = '00' + df1['KDC'].astype(str)\n",
            "<ipython-input-10-4569e8e54aa9>:22: SettingWithCopyWarning: \n",
            "A value is trying to be set on a copy of a slice from a DataFrame.\n",
            "Try using .loc[row_indexer,col_indexer] = value instead\n",
            "\n",
            "See the caveats in the documentation: https://pandas.pydata.org/pandas-docs/stable/user_guide/indexing.html#returning-a-view-versus-a-copy\n",
            "  df1['KDC'] = '00' + df1['KDC'].astype(str)\n",
            "<ipython-input-10-4569e8e54aa9>:22: SettingWithCopyWarning: \n",
            "A value is trying to be set on a copy of a slice from a DataFrame.\n",
            "Try using .loc[row_indexer,col_indexer] = value instead\n",
            "\n",
            "See the caveats in the documentation: https://pandas.pydata.org/pandas-docs/stable/user_guide/indexing.html#returning-a-view-versus-a-copy\n",
            "  df1['KDC'] = '00' + df1['KDC'].astype(str)\n",
            "<ipython-input-10-4569e8e54aa9>:22: SettingWithCopyWarning: \n",
            "A value is trying to be set on a copy of a slice from a DataFrame.\n",
            "Try using .loc[row_indexer,col_indexer] = value instead\n",
            "\n",
            "See the caveats in the documentation: https://pandas.pydata.org/pandas-docs/stable/user_guide/indexing.html#returning-a-view-versus-a-copy\n",
            "  df1['KDC'] = '00' + df1['KDC'].astype(str)\n",
            "<ipython-input-10-4569e8e54aa9>:22: SettingWithCopyWarning: \n",
            "A value is trying to be set on a copy of a slice from a DataFrame.\n",
            "Try using .loc[row_indexer,col_indexer] = value instead\n",
            "\n",
            "See the caveats in the documentation: https://pandas.pydata.org/pandas-docs/stable/user_guide/indexing.html#returning-a-view-versus-a-copy\n",
            "  df1['KDC'] = '00' + df1['KDC'].astype(str)\n",
            "<ipython-input-10-4569e8e54aa9>:22: SettingWithCopyWarning: \n",
            "A value is trying to be set on a copy of a slice from a DataFrame.\n",
            "Try using .loc[row_indexer,col_indexer] = value instead\n",
            "\n",
            "See the caveats in the documentation: https://pandas.pydata.org/pandas-docs/stable/user_guide/indexing.html#returning-a-view-versus-a-copy\n",
            "  df1['KDC'] = '00' + df1['KDC'].astype(str)\n",
            "<ipython-input-10-4569e8e54aa9>:22: SettingWithCopyWarning: \n",
            "A value is trying to be set on a copy of a slice from a DataFrame.\n",
            "Try using .loc[row_indexer,col_indexer] = value instead\n",
            "\n",
            "See the caveats in the documentation: https://pandas.pydata.org/pandas-docs/stable/user_guide/indexing.html#returning-a-view-versus-a-copy\n",
            "  df1['KDC'] = '00' + df1['KDC'].astype(str)\n",
            "<ipython-input-10-4569e8e54aa9>:22: SettingWithCopyWarning: \n",
            "A value is trying to be set on a copy of a slice from a DataFrame.\n",
            "Try using .loc[row_indexer,col_indexer] = value instead\n",
            "\n",
            "See the caveats in the documentation: https://pandas.pydata.org/pandas-docs/stable/user_guide/indexing.html#returning-a-view-versus-a-copy\n",
            "  df1['KDC'] = '00' + df1['KDC'].astype(str)\n",
            "<ipython-input-10-4569e8e54aa9>:22: SettingWithCopyWarning: \n",
            "A value is trying to be set on a copy of a slice from a DataFrame.\n",
            "Try using .loc[row_indexer,col_indexer] = value instead\n",
            "\n",
            "See the caveats in the documentation: https://pandas.pydata.org/pandas-docs/stable/user_guide/indexing.html#returning-a-view-versus-a-copy\n",
            "  df1['KDC'] = '00' + df1['KDC'].astype(str)\n",
            "<ipython-input-10-4569e8e54aa9>:22: SettingWithCopyWarning: \n",
            "A value is trying to be set on a copy of a slice from a DataFrame.\n",
            "Try using .loc[row_indexer,col_indexer] = value instead\n",
            "\n",
            "See the caveats in the documentation: https://pandas.pydata.org/pandas-docs/stable/user_guide/indexing.html#returning-a-view-versus-a-copy\n",
            "  df1['KDC'] = '00' + df1['KDC'].astype(str)\n",
            "<ipython-input-10-4569e8e54aa9>:22: SettingWithCopyWarning: \n",
            "A value is trying to be set on a copy of a slice from a DataFrame.\n",
            "Try using .loc[row_indexer,col_indexer] = value instead\n",
            "\n",
            "See the caveats in the documentation: https://pandas.pydata.org/pandas-docs/stable/user_guide/indexing.html#returning-a-view-versus-a-copy\n",
            "  df1['KDC'] = '00' + df1['KDC'].astype(str)\n"
          ]
        }
      ]
    },
    {
      "cell_type": "code",
      "source": [
        "import pandas as pd\n",
        "import glob\n",
        "\n",
        "file_pattern = '/content/drive/MyDrive/인기대출도서_2020_Data/2020_*.xlsx'\n",
        "files = glob.glob(file_pattern)\n",
        "\n",
        "for file in files:\n",
        "    df = pd.read_excel(file)\n",
        "    columns_to_drop = ['순위', '저자', '출판사', '권', 'ISBN', 'ISBN부가기호']\n",
        "    df.drop(columns=columns_to_drop, axis=1, inplace=True)\n",
        "\n",
        "    values_to_drop_kdc = ['004.077', '004.76', '005.5']\n",
        "    mask_kdc = (df['KDC'] >= 3) & (df['KDC'] < 6) & (df['KDC'] != 5.3) & ~df['KDC'].isna() & ~(df['KDC'].isin(values_to_drop_kdc))\n",
        "\n",
        "    mask_signature = ~df['서명'].str.contains('Why?', case=False, na=False)\n",
        "\n",
        "    words_to_drop = ['엑셀', '3D', '유튜브', '컴퓨터활용능력', '영상 편집', '포토샵', '사진 편집', '일러스트레이터','워드프로세서','블로그','파워포인트','영상']\n",
        "    mask_words = ~df['서명'].str.contains('|'.join(words_to_drop), case=False, na=False)\n",
        "\n",
        "    df1 = df[mask_kdc & mask_signature & mask_words]\n",
        "\n",
        "    df1['KDC'] = '00' + df1['KDC'].astype(str)\n",
        "    df1.reset_index(drop=True, inplace=True)\n",
        "\n",
        "    year_month = file.split('/')[-1].replace('.xlsx', '')\n",
        "    new_file_path = f'/content/drive/MyDrive/2020 데이터 가공/{year_month}.xlsx'\n",
        "    df1.to_excel(new_file_path, index=False)\n"
      ],
      "metadata": {
        "id": "j9gE06w4pOiO",
        "colab": {
          "base_uri": "https://localhost:8080/"
        },
        "outputId": "8c79f748-221e-4f53-ad2e-c17ae32a9ef8"
      },
      "execution_count": null,
      "outputs": [
        {
          "output_type": "stream",
          "name": "stderr",
          "text": [
            "<ipython-input-11-0d19a0bd1c87>:22: SettingWithCopyWarning: \n",
            "A value is trying to be set on a copy of a slice from a DataFrame.\n",
            "Try using .loc[row_indexer,col_indexer] = value instead\n",
            "\n",
            "See the caveats in the documentation: https://pandas.pydata.org/pandas-docs/stable/user_guide/indexing.html#returning-a-view-versus-a-copy\n",
            "  df1['KDC'] = '00' + df1['KDC'].astype(str)\n",
            "<ipython-input-11-0d19a0bd1c87>:22: SettingWithCopyWarning: \n",
            "A value is trying to be set on a copy of a slice from a DataFrame.\n",
            "Try using .loc[row_indexer,col_indexer] = value instead\n",
            "\n",
            "See the caveats in the documentation: https://pandas.pydata.org/pandas-docs/stable/user_guide/indexing.html#returning-a-view-versus-a-copy\n",
            "  df1['KDC'] = '00' + df1['KDC'].astype(str)\n",
            "<ipython-input-11-0d19a0bd1c87>:22: SettingWithCopyWarning: \n",
            "A value is trying to be set on a copy of a slice from a DataFrame.\n",
            "Try using .loc[row_indexer,col_indexer] = value instead\n",
            "\n",
            "See the caveats in the documentation: https://pandas.pydata.org/pandas-docs/stable/user_guide/indexing.html#returning-a-view-versus-a-copy\n",
            "  df1['KDC'] = '00' + df1['KDC'].astype(str)\n",
            "<ipython-input-11-0d19a0bd1c87>:22: SettingWithCopyWarning: \n",
            "A value is trying to be set on a copy of a slice from a DataFrame.\n",
            "Try using .loc[row_indexer,col_indexer] = value instead\n",
            "\n",
            "See the caveats in the documentation: https://pandas.pydata.org/pandas-docs/stable/user_guide/indexing.html#returning-a-view-versus-a-copy\n",
            "  df1['KDC'] = '00' + df1['KDC'].astype(str)\n",
            "<ipython-input-11-0d19a0bd1c87>:22: SettingWithCopyWarning: \n",
            "A value is trying to be set on a copy of a slice from a DataFrame.\n",
            "Try using .loc[row_indexer,col_indexer] = value instead\n",
            "\n",
            "See the caveats in the documentation: https://pandas.pydata.org/pandas-docs/stable/user_guide/indexing.html#returning-a-view-versus-a-copy\n",
            "  df1['KDC'] = '00' + df1['KDC'].astype(str)\n",
            "<ipython-input-11-0d19a0bd1c87>:22: SettingWithCopyWarning: \n",
            "A value is trying to be set on a copy of a slice from a DataFrame.\n",
            "Try using .loc[row_indexer,col_indexer] = value instead\n",
            "\n",
            "See the caveats in the documentation: https://pandas.pydata.org/pandas-docs/stable/user_guide/indexing.html#returning-a-view-versus-a-copy\n",
            "  df1['KDC'] = '00' + df1['KDC'].astype(str)\n",
            "<ipython-input-11-0d19a0bd1c87>:22: SettingWithCopyWarning: \n",
            "A value is trying to be set on a copy of a slice from a DataFrame.\n",
            "Try using .loc[row_indexer,col_indexer] = value instead\n",
            "\n",
            "See the caveats in the documentation: https://pandas.pydata.org/pandas-docs/stable/user_guide/indexing.html#returning-a-view-versus-a-copy\n",
            "  df1['KDC'] = '00' + df1['KDC'].astype(str)\n",
            "<ipython-input-11-0d19a0bd1c87>:22: SettingWithCopyWarning: \n",
            "A value is trying to be set on a copy of a slice from a DataFrame.\n",
            "Try using .loc[row_indexer,col_indexer] = value instead\n",
            "\n",
            "See the caveats in the documentation: https://pandas.pydata.org/pandas-docs/stable/user_guide/indexing.html#returning-a-view-versus-a-copy\n",
            "  df1['KDC'] = '00' + df1['KDC'].astype(str)\n",
            "<ipython-input-11-0d19a0bd1c87>:22: SettingWithCopyWarning: \n",
            "A value is trying to be set on a copy of a slice from a DataFrame.\n",
            "Try using .loc[row_indexer,col_indexer] = value instead\n",
            "\n",
            "See the caveats in the documentation: https://pandas.pydata.org/pandas-docs/stable/user_guide/indexing.html#returning-a-view-versus-a-copy\n",
            "  df1['KDC'] = '00' + df1['KDC'].astype(str)\n",
            "<ipython-input-11-0d19a0bd1c87>:22: SettingWithCopyWarning: \n",
            "A value is trying to be set on a copy of a slice from a DataFrame.\n",
            "Try using .loc[row_indexer,col_indexer] = value instead\n",
            "\n",
            "See the caveats in the documentation: https://pandas.pydata.org/pandas-docs/stable/user_guide/indexing.html#returning-a-view-versus-a-copy\n",
            "  df1['KDC'] = '00' + df1['KDC'].astype(str)\n",
            "<ipython-input-11-0d19a0bd1c87>:22: SettingWithCopyWarning: \n",
            "A value is trying to be set on a copy of a slice from a DataFrame.\n",
            "Try using .loc[row_indexer,col_indexer] = value instead\n",
            "\n",
            "See the caveats in the documentation: https://pandas.pydata.org/pandas-docs/stable/user_guide/indexing.html#returning-a-view-versus-a-copy\n",
            "  df1['KDC'] = '00' + df1['KDC'].astype(str)\n",
            "<ipython-input-11-0d19a0bd1c87>:22: SettingWithCopyWarning: \n",
            "A value is trying to be set on a copy of a slice from a DataFrame.\n",
            "Try using .loc[row_indexer,col_indexer] = value instead\n",
            "\n",
            "See the caveats in the documentation: https://pandas.pydata.org/pandas-docs/stable/user_guide/indexing.html#returning-a-view-versus-a-copy\n",
            "  df1['KDC'] = '00' + df1['KDC'].astype(str)\n"
          ]
        }
      ]
    },
    {
      "cell_type": "code",
      "source": [
        "import pandas as pd\n",
        "import glob\n",
        "\n",
        "file_pattern = '/content/drive/MyDrive/인기대출도서 _2021_Data/2021_*.xlsx'\n",
        "files = glob.glob(file_pattern)\n",
        "\n",
        "for file in files:\n",
        "    df = pd.read_excel(file)\n",
        "    columns_to_drop = ['순위', '저자', '출판사', '권', 'ISBN', 'ISBN부가기호']\n",
        "    df.drop(columns=columns_to_drop, axis=1, inplace=True)\n",
        "\n",
        "    values_to_drop_kdc = ['004.077', '004.76', '005.5']\n",
        "    mask_kdc = (df['KDC'] >= 3) & (df['KDC'] < 6) & (df['KDC'] != 5.3) & ~df['KDC'].isna() & ~(df['KDC'].isin(values_to_drop_kdc))\n",
        "\n",
        "    mask_signature = ~df['서명'].str.contains('Why?', case=False, na=False)\n",
        "\n",
        "    words_to_drop = ['엑셀', '3D', '유튜브', '컴퓨터활용능력', '영상 편집', '포토샵', '사진 편집', '일러스트레이터','워드프로세서','블로그','파워포인트','영상']\n",
        "    mask_words = ~df['서명'].str.contains('|'.join(words_to_drop), case=False, na=False)\n",
        "\n",
        "    df1 = df[mask_kdc & mask_signature & mask_words]\n",
        "\n",
        "    df1['KDC'] = '00' + df1['KDC'].astype(str)\n",
        "    df1.reset_index(drop=True, inplace=True)\n",
        "\n",
        "    year_month = file.split('/')[-1].replace('.xlsx', '')\n",
        "    new_file_path = f'/content/drive/MyDrive/2021 데이터 가공/{year_month}.xlsx'\n",
        "    df1.to_excel(new_file_path, index=False)\n"
      ],
      "metadata": {
        "colab": {
          "base_uri": "https://localhost:8080/"
        },
        "id": "DPsr9NfNubAc",
        "outputId": "bdbbbeab-32c4-436b-cf19-9103543f553d"
      },
      "execution_count": null,
      "outputs": [
        {
          "output_type": "stream",
          "name": "stderr",
          "text": [
            "<ipython-input-13-d0ecb2e6d51b>:22: SettingWithCopyWarning: \n",
            "A value is trying to be set on a copy of a slice from a DataFrame.\n",
            "Try using .loc[row_indexer,col_indexer] = value instead\n",
            "\n",
            "See the caveats in the documentation: https://pandas.pydata.org/pandas-docs/stable/user_guide/indexing.html#returning-a-view-versus-a-copy\n",
            "  df1['KDC'] = '00' + df1['KDC'].astype(str)\n",
            "<ipython-input-13-d0ecb2e6d51b>:22: SettingWithCopyWarning: \n",
            "A value is trying to be set on a copy of a slice from a DataFrame.\n",
            "Try using .loc[row_indexer,col_indexer] = value instead\n",
            "\n",
            "See the caveats in the documentation: https://pandas.pydata.org/pandas-docs/stable/user_guide/indexing.html#returning-a-view-versus-a-copy\n",
            "  df1['KDC'] = '00' + df1['KDC'].astype(str)\n",
            "<ipython-input-13-d0ecb2e6d51b>:22: SettingWithCopyWarning: \n",
            "A value is trying to be set on a copy of a slice from a DataFrame.\n",
            "Try using .loc[row_indexer,col_indexer] = value instead\n",
            "\n",
            "See the caveats in the documentation: https://pandas.pydata.org/pandas-docs/stable/user_guide/indexing.html#returning-a-view-versus-a-copy\n",
            "  df1['KDC'] = '00' + df1['KDC'].astype(str)\n",
            "<ipython-input-13-d0ecb2e6d51b>:22: SettingWithCopyWarning: \n",
            "A value is trying to be set on a copy of a slice from a DataFrame.\n",
            "Try using .loc[row_indexer,col_indexer] = value instead\n",
            "\n",
            "See the caveats in the documentation: https://pandas.pydata.org/pandas-docs/stable/user_guide/indexing.html#returning-a-view-versus-a-copy\n",
            "  df1['KDC'] = '00' + df1['KDC'].astype(str)\n",
            "<ipython-input-13-d0ecb2e6d51b>:22: SettingWithCopyWarning: \n",
            "A value is trying to be set on a copy of a slice from a DataFrame.\n",
            "Try using .loc[row_indexer,col_indexer] = value instead\n",
            "\n",
            "See the caveats in the documentation: https://pandas.pydata.org/pandas-docs/stable/user_guide/indexing.html#returning-a-view-versus-a-copy\n",
            "  df1['KDC'] = '00' + df1['KDC'].astype(str)\n",
            "<ipython-input-13-d0ecb2e6d51b>:22: SettingWithCopyWarning: \n",
            "A value is trying to be set on a copy of a slice from a DataFrame.\n",
            "Try using .loc[row_indexer,col_indexer] = value instead\n",
            "\n",
            "See the caveats in the documentation: https://pandas.pydata.org/pandas-docs/stable/user_guide/indexing.html#returning-a-view-versus-a-copy\n",
            "  df1['KDC'] = '00' + df1['KDC'].astype(str)\n",
            "<ipython-input-13-d0ecb2e6d51b>:22: SettingWithCopyWarning: \n",
            "A value is trying to be set on a copy of a slice from a DataFrame.\n",
            "Try using .loc[row_indexer,col_indexer] = value instead\n",
            "\n",
            "See the caveats in the documentation: https://pandas.pydata.org/pandas-docs/stable/user_guide/indexing.html#returning-a-view-versus-a-copy\n",
            "  df1['KDC'] = '00' + df1['KDC'].astype(str)\n",
            "<ipython-input-13-d0ecb2e6d51b>:22: SettingWithCopyWarning: \n",
            "A value is trying to be set on a copy of a slice from a DataFrame.\n",
            "Try using .loc[row_indexer,col_indexer] = value instead\n",
            "\n",
            "See the caveats in the documentation: https://pandas.pydata.org/pandas-docs/stable/user_guide/indexing.html#returning-a-view-versus-a-copy\n",
            "  df1['KDC'] = '00' + df1['KDC'].astype(str)\n",
            "<ipython-input-13-d0ecb2e6d51b>:22: SettingWithCopyWarning: \n",
            "A value is trying to be set on a copy of a slice from a DataFrame.\n",
            "Try using .loc[row_indexer,col_indexer] = value instead\n",
            "\n",
            "See the caveats in the documentation: https://pandas.pydata.org/pandas-docs/stable/user_guide/indexing.html#returning-a-view-versus-a-copy\n",
            "  df1['KDC'] = '00' + df1['KDC'].astype(str)\n",
            "<ipython-input-13-d0ecb2e6d51b>:22: SettingWithCopyWarning: \n",
            "A value is trying to be set on a copy of a slice from a DataFrame.\n",
            "Try using .loc[row_indexer,col_indexer] = value instead\n",
            "\n",
            "See the caveats in the documentation: https://pandas.pydata.org/pandas-docs/stable/user_guide/indexing.html#returning-a-view-versus-a-copy\n",
            "  df1['KDC'] = '00' + df1['KDC'].astype(str)\n",
            "<ipython-input-13-d0ecb2e6d51b>:22: SettingWithCopyWarning: \n",
            "A value is trying to be set on a copy of a slice from a DataFrame.\n",
            "Try using .loc[row_indexer,col_indexer] = value instead\n",
            "\n",
            "See the caveats in the documentation: https://pandas.pydata.org/pandas-docs/stable/user_guide/indexing.html#returning-a-view-versus-a-copy\n",
            "  df1['KDC'] = '00' + df1['KDC'].astype(str)\n",
            "<ipython-input-13-d0ecb2e6d51b>:22: SettingWithCopyWarning: \n",
            "A value is trying to be set on a copy of a slice from a DataFrame.\n",
            "Try using .loc[row_indexer,col_indexer] = value instead\n",
            "\n",
            "See the caveats in the documentation: https://pandas.pydata.org/pandas-docs/stable/user_guide/indexing.html#returning-a-view-versus-a-copy\n",
            "  df1['KDC'] = '00' + df1['KDC'].astype(str)\n"
          ]
        }
      ]
    },
    {
      "cell_type": "code",
      "source": [
        "import pandas as pd\n",
        "import glob\n",
        "\n",
        "file_pattern = '/content/drive/MyDrive/인기대출도서_2022_Data/2022_*.xlsx'\n",
        "files = glob.glob(file_pattern)\n",
        "\n",
        "for file in files:\n",
        "    df = pd.read_excel(file)\n",
        "    columns_to_drop = ['순위', '저자', '출판사', '권', 'ISBN', 'ISBN부가기호']\n",
        "    df.drop(columns=columns_to_drop, axis=1, inplace=True)\n",
        "\n",
        "    values_to_drop_kdc = ['004.077', '004.76', '005.5']\n",
        "    mask_kdc = (df['KDC'] >= 3) & (df['KDC'] < 6) & (df['KDC'] != 5.3) & ~df['KDC'].isna() & ~(df['KDC'].isin(values_to_drop_kdc))\n",
        "\n",
        "    mask_signature = ~df['서명'].str.contains('Why?', case=False, na=False)\n",
        "\n",
        "    words_to_drop = ['엑셀', '3D', '유튜브', '컴퓨터활용능력', '영상 편집', '포토샵', '사진 편집', '일러스트레이터','워드프로세서','블로그','파워포인트','영상']\n",
        "    mask_words = ~df['서명'].str.contains('|'.join(words_to_drop), case=False, na=False)\n",
        "\n",
        "    df1 = df[mask_kdc & mask_signature & mask_words]\n",
        "\n",
        "    df1['KDC'] = '00' + df1['KDC'].astype(str)\n",
        "    df1.reset_index(drop=True, inplace=True)\n",
        "\n",
        "    year_month = file.split('/')[-1].replace('.xlsx', '')\n",
        "    new_file_path = f'/content/drive/MyDrive/2022 데이터 가공/{year_month}.xlsx'\n",
        "    df1.to_excel(new_file_path, index=False)\n"
      ],
      "metadata": {
        "id": "TmO0LgO1NW_Z",
        "colab": {
          "base_uri": "https://localhost:8080/"
        },
        "outputId": "a3bfb8e9-46b5-42ca-896e-4e43e7dc5115"
      },
      "execution_count": null,
      "outputs": [
        {
          "output_type": "stream",
          "name": "stderr",
          "text": [
            "<ipython-input-14-b445f4bafdde>:22: SettingWithCopyWarning: \n",
            "A value is trying to be set on a copy of a slice from a DataFrame.\n",
            "Try using .loc[row_indexer,col_indexer] = value instead\n",
            "\n",
            "See the caveats in the documentation: https://pandas.pydata.org/pandas-docs/stable/user_guide/indexing.html#returning-a-view-versus-a-copy\n",
            "  df1['KDC'] = '00' + df1['KDC'].astype(str)\n",
            "<ipython-input-14-b445f4bafdde>:22: SettingWithCopyWarning: \n",
            "A value is trying to be set on a copy of a slice from a DataFrame.\n",
            "Try using .loc[row_indexer,col_indexer] = value instead\n",
            "\n",
            "See the caveats in the documentation: https://pandas.pydata.org/pandas-docs/stable/user_guide/indexing.html#returning-a-view-versus-a-copy\n",
            "  df1['KDC'] = '00' + df1['KDC'].astype(str)\n",
            "<ipython-input-14-b445f4bafdde>:22: SettingWithCopyWarning: \n",
            "A value is trying to be set on a copy of a slice from a DataFrame.\n",
            "Try using .loc[row_indexer,col_indexer] = value instead\n",
            "\n",
            "See the caveats in the documentation: https://pandas.pydata.org/pandas-docs/stable/user_guide/indexing.html#returning-a-view-versus-a-copy\n",
            "  df1['KDC'] = '00' + df1['KDC'].astype(str)\n",
            "<ipython-input-14-b445f4bafdde>:22: SettingWithCopyWarning: \n",
            "A value is trying to be set on a copy of a slice from a DataFrame.\n",
            "Try using .loc[row_indexer,col_indexer] = value instead\n",
            "\n",
            "See the caveats in the documentation: https://pandas.pydata.org/pandas-docs/stable/user_guide/indexing.html#returning-a-view-versus-a-copy\n",
            "  df1['KDC'] = '00' + df1['KDC'].astype(str)\n",
            "<ipython-input-14-b445f4bafdde>:22: SettingWithCopyWarning: \n",
            "A value is trying to be set on a copy of a slice from a DataFrame.\n",
            "Try using .loc[row_indexer,col_indexer] = value instead\n",
            "\n",
            "See the caveats in the documentation: https://pandas.pydata.org/pandas-docs/stable/user_guide/indexing.html#returning-a-view-versus-a-copy\n",
            "  df1['KDC'] = '00' + df1['KDC'].astype(str)\n",
            "<ipython-input-14-b445f4bafdde>:22: SettingWithCopyWarning: \n",
            "A value is trying to be set on a copy of a slice from a DataFrame.\n",
            "Try using .loc[row_indexer,col_indexer] = value instead\n",
            "\n",
            "See the caveats in the documentation: https://pandas.pydata.org/pandas-docs/stable/user_guide/indexing.html#returning-a-view-versus-a-copy\n",
            "  df1['KDC'] = '00' + df1['KDC'].astype(str)\n",
            "<ipython-input-14-b445f4bafdde>:22: SettingWithCopyWarning: \n",
            "A value is trying to be set on a copy of a slice from a DataFrame.\n",
            "Try using .loc[row_indexer,col_indexer] = value instead\n",
            "\n",
            "See the caveats in the documentation: https://pandas.pydata.org/pandas-docs/stable/user_guide/indexing.html#returning-a-view-versus-a-copy\n",
            "  df1['KDC'] = '00' + df1['KDC'].astype(str)\n",
            "<ipython-input-14-b445f4bafdde>:22: SettingWithCopyWarning: \n",
            "A value is trying to be set on a copy of a slice from a DataFrame.\n",
            "Try using .loc[row_indexer,col_indexer] = value instead\n",
            "\n",
            "See the caveats in the documentation: https://pandas.pydata.org/pandas-docs/stable/user_guide/indexing.html#returning-a-view-versus-a-copy\n",
            "  df1['KDC'] = '00' + df1['KDC'].astype(str)\n",
            "<ipython-input-14-b445f4bafdde>:22: SettingWithCopyWarning: \n",
            "A value is trying to be set on a copy of a slice from a DataFrame.\n",
            "Try using .loc[row_indexer,col_indexer] = value instead\n",
            "\n",
            "See the caveats in the documentation: https://pandas.pydata.org/pandas-docs/stable/user_guide/indexing.html#returning-a-view-versus-a-copy\n",
            "  df1['KDC'] = '00' + df1['KDC'].astype(str)\n",
            "<ipython-input-14-b445f4bafdde>:22: SettingWithCopyWarning: \n",
            "A value is trying to be set on a copy of a slice from a DataFrame.\n",
            "Try using .loc[row_indexer,col_indexer] = value instead\n",
            "\n",
            "See the caveats in the documentation: https://pandas.pydata.org/pandas-docs/stable/user_guide/indexing.html#returning-a-view-versus-a-copy\n",
            "  df1['KDC'] = '00' + df1['KDC'].astype(str)\n",
            "<ipython-input-14-b445f4bafdde>:22: SettingWithCopyWarning: \n",
            "A value is trying to be set on a copy of a slice from a DataFrame.\n",
            "Try using .loc[row_indexer,col_indexer] = value instead\n",
            "\n",
            "See the caveats in the documentation: https://pandas.pydata.org/pandas-docs/stable/user_guide/indexing.html#returning-a-view-versus-a-copy\n",
            "  df1['KDC'] = '00' + df1['KDC'].astype(str)\n",
            "<ipython-input-14-b445f4bafdde>:22: SettingWithCopyWarning: \n",
            "A value is trying to be set on a copy of a slice from a DataFrame.\n",
            "Try using .loc[row_indexer,col_indexer] = value instead\n",
            "\n",
            "See the caveats in the documentation: https://pandas.pydata.org/pandas-docs/stable/user_guide/indexing.html#returning-a-view-versus-a-copy\n",
            "  df1['KDC'] = '00' + df1['KDC'].astype(str)\n"
          ]
        }
      ]
    },
    {
      "cell_type": "code",
      "source": [],
      "metadata": {
        "id": "Hj0TDQuI2kkE"
      },
      "execution_count": null,
      "outputs": []
    },
    {
      "cell_type": "code",
      "source": [
        "import pandas as pd\n",
        "import glob\n",
        "\n",
        "file_pattern = '/content/drive/MyDrive/인기대출도서_2023_Data/2023_*.xlsx'\n",
        "files = glob.glob(file_pattern)\n",
        "\n",
        "for file in files:\n",
        "    df = pd.read_excel(file)\n",
        "    columns_to_drop = ['순위', '저자', '출판사', '권', 'ISBN', 'ISBN부가기호']\n",
        "    df.drop(columns=columns_to_drop, axis=1, inplace=True)\n",
        "\n",
        "    values_to_drop_kdc = ['004.077', '004.76', '005.5']\n",
        "    mask_kdc = (df['KDC'] >= 3) & (df['KDC'] < 6) & (df['KDC'] != 5.3) & ~df['KDC'].isna() & ~(df['KDC'].isin(values_to_drop_kdc))\n",
        "\n",
        "    mask_signature = ~df['서명'].str.contains('Why?', case=False, na=False)\n",
        "\n",
        "    words_to_drop = ['엑셀', '3D', '유튜브', '컴퓨터활용능력', '영상 편집', '포토샵', '사진 편집', '일러스트레이터','워드프로세서','블로그','파워포인트','영상']\n",
        "    mask_words = ~df['서명'].str.contains('|'.join(words_to_drop), case=False, na=False)\n",
        "\n",
        "    df1 = df[mask_kdc & mask_signature & mask_words]\n",
        "\n",
        "    df1['KDC'] = '00' + df1['KDC'].astype(str)\n",
        "    df1.reset_index(drop=True, inplace=True)\n",
        "\n",
        "    year_month = file.split('/')[-1].replace('.xlsx', '')\n",
        "    new_file_path = f'/content/drive/MyDrive/2023 데이터 가공/{year_month}.xlsx'\n",
        "    df1.to_excel(new_file_path, index=False)\n"
      ],
      "metadata": {
        "colab": {
          "base_uri": "https://localhost:8080/"
        },
        "id": "Ddoa0_DlfGEc",
        "outputId": "028e3742-1d18-4966-a136-28ba4784142a"
      },
      "execution_count": null,
      "outputs": [
        {
          "output_type": "stream",
          "name": "stderr",
          "text": [
            "<ipython-input-15-55e8e6b8029b>:22: SettingWithCopyWarning: \n",
            "A value is trying to be set on a copy of a slice from a DataFrame.\n",
            "Try using .loc[row_indexer,col_indexer] = value instead\n",
            "\n",
            "See the caveats in the documentation: https://pandas.pydata.org/pandas-docs/stable/user_guide/indexing.html#returning-a-view-versus-a-copy\n",
            "  df1['KDC'] = '00' + df1['KDC'].astype(str)\n",
            "<ipython-input-15-55e8e6b8029b>:22: SettingWithCopyWarning: \n",
            "A value is trying to be set on a copy of a slice from a DataFrame.\n",
            "Try using .loc[row_indexer,col_indexer] = value instead\n",
            "\n",
            "See the caveats in the documentation: https://pandas.pydata.org/pandas-docs/stable/user_guide/indexing.html#returning-a-view-versus-a-copy\n",
            "  df1['KDC'] = '00' + df1['KDC'].astype(str)\n",
            "<ipython-input-15-55e8e6b8029b>:22: SettingWithCopyWarning: \n",
            "A value is trying to be set on a copy of a slice from a DataFrame.\n",
            "Try using .loc[row_indexer,col_indexer] = value instead\n",
            "\n",
            "See the caveats in the documentation: https://pandas.pydata.org/pandas-docs/stable/user_guide/indexing.html#returning-a-view-versus-a-copy\n",
            "  df1['KDC'] = '00' + df1['KDC'].astype(str)\n",
            "<ipython-input-15-55e8e6b8029b>:22: SettingWithCopyWarning: \n",
            "A value is trying to be set on a copy of a slice from a DataFrame.\n",
            "Try using .loc[row_indexer,col_indexer] = value instead\n",
            "\n",
            "See the caveats in the documentation: https://pandas.pydata.org/pandas-docs/stable/user_guide/indexing.html#returning-a-view-versus-a-copy\n",
            "  df1['KDC'] = '00' + df1['KDC'].astype(str)\n",
            "<ipython-input-15-55e8e6b8029b>:22: SettingWithCopyWarning: \n",
            "A value is trying to be set on a copy of a slice from a DataFrame.\n",
            "Try using .loc[row_indexer,col_indexer] = value instead\n",
            "\n",
            "See the caveats in the documentation: https://pandas.pydata.org/pandas-docs/stable/user_guide/indexing.html#returning-a-view-versus-a-copy\n",
            "  df1['KDC'] = '00' + df1['KDC'].astype(str)\n",
            "<ipython-input-15-55e8e6b8029b>:22: SettingWithCopyWarning: \n",
            "A value is trying to be set on a copy of a slice from a DataFrame.\n",
            "Try using .loc[row_indexer,col_indexer] = value instead\n",
            "\n",
            "See the caveats in the documentation: https://pandas.pydata.org/pandas-docs/stable/user_guide/indexing.html#returning-a-view-versus-a-copy\n",
            "  df1['KDC'] = '00' + df1['KDC'].astype(str)\n",
            "<ipython-input-15-55e8e6b8029b>:22: SettingWithCopyWarning: \n",
            "A value is trying to be set on a copy of a slice from a DataFrame.\n",
            "Try using .loc[row_indexer,col_indexer] = value instead\n",
            "\n",
            "See the caveats in the documentation: https://pandas.pydata.org/pandas-docs/stable/user_guide/indexing.html#returning-a-view-versus-a-copy\n",
            "  df1['KDC'] = '00' + df1['KDC'].astype(str)\n",
            "<ipython-input-15-55e8e6b8029b>:22: SettingWithCopyWarning: \n",
            "A value is trying to be set on a copy of a slice from a DataFrame.\n",
            "Try using .loc[row_indexer,col_indexer] = value instead\n",
            "\n",
            "See the caveats in the documentation: https://pandas.pydata.org/pandas-docs/stable/user_guide/indexing.html#returning-a-view-versus-a-copy\n",
            "  df1['KDC'] = '00' + df1['KDC'].astype(str)\n",
            "<ipython-input-15-55e8e6b8029b>:22: SettingWithCopyWarning: \n",
            "A value is trying to be set on a copy of a slice from a DataFrame.\n",
            "Try using .loc[row_indexer,col_indexer] = value instead\n",
            "\n",
            "See the caveats in the documentation: https://pandas.pydata.org/pandas-docs/stable/user_guide/indexing.html#returning-a-view-versus-a-copy\n",
            "  df1['KDC'] = '00' + df1['KDC'].astype(str)\n",
            "<ipython-input-15-55e8e6b8029b>:22: SettingWithCopyWarning: \n",
            "A value is trying to be set on a copy of a slice from a DataFrame.\n",
            "Try using .loc[row_indexer,col_indexer] = value instead\n",
            "\n",
            "See the caveats in the documentation: https://pandas.pydata.org/pandas-docs/stable/user_guide/indexing.html#returning-a-view-versus-a-copy\n",
            "  df1['KDC'] = '00' + df1['KDC'].astype(str)\n"
          ]
        }
      ]
    },
    {
      "cell_type": "code",
      "source": [
        "import pandas as pd\n",
        "\n",
        "data = {\n",
        "    '대분류': ['003', '004', '004', '004', '004', '004', '004', '005', '005', '005'],\n",
        "    '소분류': ['003', '004.1', '004.2', '004.3', '004.5', '004.6', '004.7', '005.1', '005.4', '005.7',],\n",
        "}\n",
        "\n",
        "mapping = {\n",
        "    '003' : '이론 체계 및 시스템',\n",
        "    '004.1': '특정 컴퓨터에 관한 일반 저작',\n",
        "    '004.2': '시스템 분석, 설계, 구조 및 성능 평가',\n",
        "    '004.3': '처리 방식',\n",
        "    '004.5': '통신 및 네트워크',\n",
        "    '004.6': '보안 및 컴퓨터 바이러스',\n",
        "    '004.7': '컴퓨터 특수 응용',\n",
        "    '005.1': '프로그램 및 프로그래밍 언어',\n",
        "    '005.4': '시스템 프로그래밍, 프로그램',\n",
        "    '005.7': '컴퓨터 데이터 및 데이터 베이스',\n",
        "}\n",
        "\n",
        "df = pd.DataFrame(data)\n",
        "\n",
        "\n",
        "df['소분류_내용'] = df['소분류'].map(mapping)\n",
        "\n",
        "\n",
        "excel_path = '/content/drive/MyDrive/kdc 라벨링/kdc 라벨링.xlsx'\n",
        "df.to_excel(excel_path, index=False)"
      ],
      "metadata": {
        "id": "jyQHPuVg2mID"
      },
      "execution_count": null,
      "outputs": []
    },
    {
      "cell_type": "code",
      "source": [
        "from google.colab import drive\n",
        "drive.mount('/content/drive')"
      ],
      "metadata": {
        "colab": {
          "base_uri": "https://localhost:8080/"
        },
        "id": "J-tj-oMO0sJO",
        "outputId": "e5753e1d-260d-4f26-a13e-60b5d6d3bad6"
      },
      "execution_count": 1,
      "outputs": [
        {
          "output_type": "stream",
          "name": "stdout",
          "text": [
            "Mounted at /content/drive\n"
          ]
        }
      ]
    }
  ]
}